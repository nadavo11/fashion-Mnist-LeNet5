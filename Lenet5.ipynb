{
 "cells": [
  {
   "cell_type": "code",
   "execution_count": 79,
   "metadata": {
    "collapsed": true,
    "ExecuteTime": {
     "start_time": "2024-06-04T10:53:03.105648Z",
     "end_time": "2024-06-04T10:53:16.561949Z"
    }
   },
   "outputs": [
    {
     "name": "stdout",
     "output_type": "stream",
     "text": [
      "Collecting tensorboard\n",
      "  Downloading tensorboard-2.16.2-py3-none-any.whl.metadata (1.6 kB)\n",
      "Requirement already satisfied: absl-py>=0.4 in c:\\users\\nadav\\appdata\\roaming\\python\\python310\\site-packages (from tensorboard) (1.4.0)\n",
      "Collecting grpcio>=1.48.2 (from tensorboard)\n",
      "  Downloading grpcio-1.64.1-cp310-cp310-win_amd64.whl.metadata (3.4 kB)\n",
      "Collecting markdown>=2.6.8 (from tensorboard)\n",
      "  Downloading Markdown-3.6-py3-none-any.whl.metadata (7.0 kB)\n",
      "Requirement already satisfied: numpy>=1.12.0 in c:\\users\\nadav\\appdata\\roaming\\python\\python310\\site-packages (from tensorboard) (1.24.4)\n",
      "Requirement already satisfied: protobuf!=4.24.0,>=3.19.6 in c:\\users\\nadav\\appdata\\roaming\\python\\python310\\site-packages (from tensorboard) (3.20.3)\n",
      "Requirement already satisfied: setuptools>=41.0.0 in c:\\users\\nadav\\anaconda3\\envs\\lenet5\\lib\\site-packages (from tensorboard) (69.5.1)\n",
      "Requirement already satisfied: six>1.9 in c:\\users\\nadav\\appdata\\roaming\\python\\python310\\site-packages (from tensorboard) (1.16.0)\n",
      "Collecting tensorboard-data-server<0.8.0,>=0.7.0 (from tensorboard)\n",
      "  Downloading tensorboard_data_server-0.7.2-py3-none-any.whl.metadata (1.1 kB)\n",
      "Collecting werkzeug>=1.0.1 (from tensorboard)\n",
      "  Downloading werkzeug-3.0.3-py3-none-any.whl.metadata (3.7 kB)\n",
      "Requirement already satisfied: MarkupSafe>=2.1.1 in c:\\users\\nadav\\appdata\\roaming\\python\\python310\\site-packages (from werkzeug>=1.0.1->tensorboard) (2.1.5)\n",
      "Downloading tensorboard-2.16.2-py3-none-any.whl (5.5 MB)\n",
      "   ---------------------------------------- 0.0/5.5 MB ? eta -:--:--\n",
      "   ---------------------------------------- 0.0/5.5 MB ? eta -:--:--\n",
      "   ---------------------------------------- 0.0/5.5 MB 640.0 kB/s eta 0:00:09\n",
      "    --------------------------------------- 0.1/5.5 MB 871.5 kB/s eta 0:00:07\n",
      "   - -------------------------------------- 0.2/5.5 MB 1.4 MB/s eta 0:00:04\n",
      "   -- ------------------------------------- 0.4/5.5 MB 2.1 MB/s eta 0:00:03\n",
      "   ----- ---------------------------------- 0.7/5.5 MB 3.1 MB/s eta 0:00:02\n",
      "   -------- ------------------------------- 1.1/5.5 MB 4.0 MB/s eta 0:00:02\n",
      "   ------------- -------------------------- 1.9/5.5 MB 5.9 MB/s eta 0:00:01\n",
      "   ----------------------- ---------------- 3.2/5.5 MB 8.6 MB/s eta 0:00:01\n",
      "   ---------------------------------- ----- 4.7/5.5 MB 11.0 MB/s eta 0:00:01\n",
      "   ---------------------------------------  5.5/5.5 MB 12.1 MB/s eta 0:00:01\n",
      "   ---------------------------------------- 5.5/5.5 MB 11.3 MB/s eta 0:00:00\n",
      "Downloading grpcio-1.64.1-cp310-cp310-win_amd64.whl (4.1 MB)\n",
      "   ---------------------------------------- 0.0/4.1 MB ? eta -:--:--\n",
      "   ----------------- ---------------------- 1.8/4.1 MB 37.0 MB/s eta 0:00:01\n",
      "   ----------------------------------- ---- 3.6/4.1 MB 38.0 MB/s eta 0:00:01\n",
      "   ---------------------------------------- 4.1/4.1 MB 32.6 MB/s eta 0:00:00\n",
      "Downloading Markdown-3.6-py3-none-any.whl (105 kB)\n",
      "   ---------------------------------------- 0.0/105.4 kB ? eta -:--:--\n",
      "   ---------------------------------------- 105.4/105.4 kB 5.9 MB/s eta 0:00:00\n",
      "Downloading tensorboard_data_server-0.7.2-py3-none-any.whl (2.4 kB)\n",
      "Downloading werkzeug-3.0.3-py3-none-any.whl (227 kB)\n",
      "   ---------------------------------------- 0.0/227.3 kB ? eta -:--:--\n",
      "   ---------------------------------------- 227.3/227.3 kB 4.6 MB/s eta 0:00:00\n",
      "Installing collected packages: werkzeug, tensorboard-data-server, markdown, grpcio, tensorboard\n",
      "Successfully installed grpcio-1.64.1 markdown-3.6 tensorboard-2.16.2 tensorboard-data-server-0.7.2 werkzeug-3.0.3\n"
     ]
    }
   ],
   "source": [
    "! pip install tensorboard\n"
   ]
  },
  {
   "cell_type": "markdown",
   "source": [
    "# Lenet-5 for fashion mnist"
   ],
   "metadata": {
    "collapsed": false
   }
  },
  {
   "cell_type": "code",
   "execution_count": 80,
   "outputs": [],
   "source": [
    "import numpy as np\n",
    "import torch\n",
    "import torch.nn as nn\n",
    "import torch.optim as optim\n",
    "import torch.nn.functional as F\n",
    "from torch.utils.data import DataLoader\n",
    "from torchvision import datasets, transforms\n",
    "import matplotlib.pyplot as plt\n",
    "from torch.utils.tensorboard import SummaryWriter"
   ],
   "metadata": {
    "collapsed": false,
    "ExecuteTime": {
     "start_time": "2024-06-04T10:53:30.929850Z",
     "end_time": "2024-06-04T10:53:32.111684Z"
    }
   }
  },
  {
   "cell_type": "markdown",
   "source": [
    "# fasion-MNIST dataset\n",
    "\n",
    "the fasion-MNIST dataset is a dataset of Zalando's article images consisting of a training set of 60,000 examples and a test set of 10,000 examples. Each example is a 28x28 grayscale image, associated with a label from 10 classes. Zalando intends fasion-MNIST to serve as a direct drop-in replacement for the original MNIST dataset for benchmarking machine learning algorithms. It shares the same image size and structure of training and testing splits.\n",
    "\n",
    "## loading the dataset\n",
    "The dataset can be used from `torchvision.datasets` package. The dataset is downloaded from the internet and saved in the `data` directory. The dataset is loaded using the `torch.utils.data.DataLoader` class. The `DataLoader` class is used to load the data in batches. The `DataLoader` class takes the dataset and the batch size as input and provides an iterator to iterate over the dataset in batches.\n",
    "\n",
    "\n",
    "## Transforms\n",
    "### resize:\n",
    " The images in the fasion-MNIST dataset are of size 28x28. So, it makes sense to use the `transforms.Resize` to convert the images to a size that is compatible with the LeNet-5 architecture's input. The LeNet-5 architecture expects images of size 32x32 as input.\n",
    "the original size of the images in the MNIST dataset is 28x28.\n",
    "\n",
    "### ToTensor:\n",
    "The `transforms.ToTensor` converts the images to PyTorch tensors. The images in the fasion-MNIST dataset are of type `PIL.Image.Image`. The `transforms.ToTensor` converts the images to PyTorch tensors of shape `(C, H, W)` where `C` is the number of channels, `H` is the height of the image, and `W` is the width of the image. The images in the fasion-MNIST dataset are grayscale images, so the number of channels is 1. The shape of the images after applying the `transforms.ToTensor` is `(1, 32, 32)`.\n"
   ],
   "metadata": {
    "collapsed": false
   }
  },
  {
   "cell_type": "code",
   "execution_count": 66,
   "outputs": [],
   "source": [
    "fashion_mnist_train = datasets.FashionMNIST('data', train=True, download=True, transform=transforms.Compose([\n",
    "    transforms.Resize((32, 32)),\n",
    "    transforms.ToTensor()\n",
    "]))"
   ],
   "metadata": {
    "collapsed": false,
    "ExecuteTime": {
     "start_time": "2024-06-04T10:27:38.291071Z",
     "end_time": "2024-06-04T10:27:38.344479Z"
    }
   }
  },
  {
   "cell_type": "markdown",
   "source": [],
   "metadata": {
    "collapsed": false
   }
  },
  {
   "cell_type": "markdown",
   "source": [
    "## Test dataset"
   ],
   "metadata": {
    "collapsed": false
   }
  },
  {
   "cell_type": "code",
   "execution_count": 67,
   "outputs": [],
   "source": [
    "fashion_mnist_test = datasets.FashionMNIST('data', train=False, download=True, transform=transforms.Compose([\n",
    "    transforms.Resize((32, 32)),\n",
    "    transforms.ToTensor()\n",
    "]))"
   ],
   "metadata": {
    "collapsed": false,
    "ExecuteTime": {
     "start_time": "2024-06-04T10:27:40.298324Z",
     "end_time": "2024-06-04T10:27:40.334929Z"
    }
   }
  },
  {
   "cell_type": "markdown",
   "source": [
    "### split the dataset to test and validation"
   ],
   "metadata": {
    "collapsed": false
   }
  },
  {
   "cell_type": "code",
   "execution_count": 68,
   "outputs": [],
   "source": [
    "from torch.utils.data import DataLoader, Subset\n",
    "from sklearn.model_selection import train_test_split\n",
    "\n",
    "# Split fashion_mnist_train into train and val sets\n",
    "train_indices, val_indices = train_test_split(list(range(len(fashion_mnist_train))), test_size=0.2, random_state=42)\n",
    "\n",
    "train_subset = Subset(fashion_mnist_train, train_indices)\n",
    "val_subset = Subset(fashion_mnist_train, val_indices)\n",
    "\n",
    "# DataLoaders\n",
    "batch_size = 64\n",
    "\n",
    "train_loader = DataLoader(train_subset, batch_size=batch_size, shuffle=True)\n",
    "val_loader = DataLoader(val_subset, batch_size=batch_size, shuffle=False)\n",
    "test_loader = DataLoader(fashion_mnist_test, batch_size=batch_size, shuffle=False)\n"
   ],
   "metadata": {
    "collapsed": false,
    "ExecuteTime": {
     "start_time": "2024-06-04T10:27:41.335717Z",
     "end_time": "2024-06-04T10:27:41.467371Z"
    }
   }
  },
  {
   "cell_type": "markdown",
   "source": [
    "## Tensorboard\n",
    "\n",
    "tensorboard is a visualization tool that can be used to visualize the training process of a deep learning model. The `torch.utils.tensorboard.SummaryWriter` class is used to write the logs to the tensorboard. The `SummaryWriter` class takes the log directory as input. The logs are written to the log directory in the form of event files. The event files can be visualized using the tensorboard web interface.\n",
    "\n"
   ],
   "metadata": {
    "collapsed": false
   }
  },
  {
   "cell_type": "code",
   "execution_count": 68,
   "outputs": [],
   "source": [],
   "metadata": {
    "collapsed": false,
    "ExecuteTime": {
     "start_time": "2024-06-04T10:27:46.888530Z",
     "end_time": "2024-06-04T10:27:46.975621Z"
    }
   }
  },
  {
   "cell_type": "markdown",
   "source": [
    "## Visualize the dataset\n",
    "let's draw 5 random images from the dataset and visualize them. The images are grayscale images of size 32x32. The images are converted to PyTorch tensors of shape `(1, 32, 32)` using the `transforms.ToTensor` transform. The images are then visualized using the `matplotlib.pyplot.imshow` function. we can also decode the labels to see how the images are labeled."
   ],
   "metadata": {
    "collapsed": false
   }
  },
  {
   "cell_type": "code",
   "execution_count": 118,
   "outputs": [
    {
     "data": {
      "text/plain": "<Figure size 2000x500 with 5 Axes>",
      "image/png": "[encoded data removed]"
     },
     "metadata": {},
     "output_type": "display_data"
    }
   ],
   "source": [
    "# get 5 images\n",
    "imgs = [0]*5\n",
    "labels = [0]*5\n",
    "for idx, i in enumerate(np.random.randint(0, len(fashion_mnist_train), 5)):\n",
    "    imgs[idx], labels[idx] = fashion_mnist_train[i]\n",
    "\n",
    "#visualize the 5 image\n",
    "fig, ax = plt.subplots(1, 5, figsize=(20, 5))\n",
    "for i in range(5):\n",
    "    ax[i].imshow(imgs[i].permute(1, 2, 0), cmap='gray')\n",
    "    ax[i].set_title(fashion_mnist_train.classes[labels[i]])\n",
    "    ax[i].axis('off')\n",
    "    #decode the label\n",
    "    label = fashion_mnist_train.classes[labels[i]]\n"
   ],
   "metadata": {
    "collapsed": false,
    "ExecuteTime": {
     "start_time": "2024-06-04T18:02:04.448726Z",
     "end_time": "2024-06-04T18:02:05.178813Z"
    }
   }
  },
  {
   "cell_type": "markdown",
   "source": [
    "markdown bold text -"
   ],
   "metadata": {
    "collapsed": false
   }
  },
  {
   "cell_type": "markdown",
   "source": [
    "# LeNet-5 Architecture\n",
    "The LeNet-5 architecture is a convolutional neural network architecture proposed by Yann LeCun in 1998. The LeNet-5 architecture consists of 7 layers. The architecture of the LeNet-5 is as follows:\n",
    "\n",
    "#### **input layer:**\n",
    "The input to the LeNet-5 architecture is a grayscale image of size 32x32.\n",
    "\n",
    "#### Convolution & Average Pooling Layers:\n",
    "next, the input image is passed through a convolutional layer followed by an average pooling layer.\n",
    "The convolutional layer has 6 filters of size 5x5.\n",
    "- **kernel size:** 5x5\n",
    "-  **channels:** $1 \\rightarrow 6$\n",
    "- **stride:** 1\n",
    "The average pooling layer has a filter of size 2x2.\n",
    "- **kernel size:** 2x2\n",
    "- **stride:** 2\n",
    "\n",
    "#### 2nd Convolution & Average Pooling Layers:\n",
    "The output from the first average pooling layer is passed through another convolutional layer followed by another average pooling layer.\n",
    "The convolutional layer has 16 filters of size 5x5.\n",
    "- **kernel size:** 5x5\n",
    "- **channels:** $6 \\rightarrow 16$\n",
    "- **stride:** 1\n",
    "average pooling layer has a filter of size 2x2.\n",
    "- **kernel size:** 2x2\n",
    "- **stride:** 2\n",
    "\n",
    "#### convolutional layer:\n",
    "The output from the second average pooling layer is passed through another convolutional layer.\n",
    "- **kernel size:** 5x5\n",
    "- **output channels:** 120\n",
    "- **stride:** 1\n",
    "\n",
    "#### Fully Connected Layers:\n",
    "The output from the last convolutional layer is flattened and passed through 3 fully connected layers:\n",
    "- **1st fully connected layer:** $120 \\rightarrow 84$\n",
    "- **2nd fully connected layer:** $84 \\rightarrow 10$\n",
    "#### Output Layer:\n",
    "The output from the last fully connected layer is passed through a softmax activation function to get the best of 10 class probabilities.\n",
    "\n"
   ],
   "metadata": {
    "collapsed": false
   }
  },
  {
   "cell_type": "code",
   "execution_count": 70,
   "outputs": [],
   "source": [],
   "metadata": {
    "collapsed": false,
    "ExecuteTime": {
     "start_time": "2024-06-04T10:28:07.591624Z",
     "end_time": "2024-06-04T10:28:07.616423Z"
    }
   }
  },
  {
   "cell_type": "code",
   "execution_count": 94,
   "outputs": [],
   "source": [
    "class Lenet5(nn.Module):\n",
    "    def __init__(self, dropout=0.5, batch_norm=False):\n",
    "        super(Lenet5, self).__init__()\n",
    "        self.conv1 = nn.Sequential(\n",
    "            nn.Conv2d(1, 6, kernel_size=5, stride=1),\n",
    "            nn.Tanh(),\n",
    "            nn.AvgPool2d(kernel_size=2, stride=2)\n",
    "        )\n",
    "        self.conv2 = nn.Sequential(\n",
    "            nn.Conv2d(6, 16, kernel_size=5, stride=1),\n",
    "            nn.Tanh(),\n",
    "            nn.AvgPool2d(kernel_size=2, stride=2)\n",
    "            # TODO: add batch normalization,add dropout layer\n",
    "        )\n",
    "        self.conv3 = nn.Conv2d(16, 120, kernel_size=5, stride=1)\n",
    "\n",
    "        # fully connected layers\n",
    "        self.fc1 = nn.Linear(120, 84)\n",
    "        self.fc2 = nn.Linear(84, 10)\n",
    "        self.softmax = nn.Softmax(dim=1)\n",
    "    def forward(self, x):\n",
    "        x = self.conv1(x)\n",
    "        x = self.conv2(x)\n",
    "        x = self.conv3(x)\n",
    "        x = x.view(x.size(0), -1)\n",
    "        x = self.fc1(x)\n",
    "        x = self.fc2(x)\n",
    "        #x = self.softmax(x)\n",
    "        return x\n"
   ],
   "metadata": {
    "collapsed": false,
    "ExecuteTime": {
     "start_time": "2024-06-04T12:37:12.207786Z",
     "end_time": "2024-06-04T12:37:12.242096Z"
    }
   }
  },
  {
   "cell_type": "markdown",
   "source": [
    "let's initialize the model and print the model summary.then let's try it on a single batch of images to see if the model is working correctly."
   ],
   "metadata": {
    "collapsed": false
   }
  },
  {
   "cell_type": "markdown",
   "source": [],
   "metadata": {
    "collapsed": false
   }
  },
  {
   "cell_type": "code",
   "execution_count": 119,
   "outputs": [
    {
     "name": "stdout",
     "output_type": "stream",
     "text": [
      "Lenet5(\n",
      "  (conv1): Sequential(\n",
      "    (0): Conv2d(1, 6, kernel_size=(5, 5), stride=(1, 1))\n",
      "    (1): Tanh()\n",
      "    (2): AvgPool2d(kernel_size=2, stride=2, padding=0)\n",
      "  )\n",
      "  (conv2): Sequential(\n",
      "    (0): Conv2d(6, 16, kernel_size=(5, 5), stride=(1, 1))\n",
      "    (1): Tanh()\n",
      "    (2): AvgPool2d(kernel_size=2, stride=2, padding=0)\n",
      "  )\n",
      "  (conv3): Conv2d(16, 120, kernel_size=(5, 5), stride=(1, 1))\n",
      "  (fc1): Linear(in_features=120, out_features=84, bias=True)\n",
      "  (fc2): Linear(in_features=84, out_features=10, bias=True)\n",
      "  (softmax): Softmax(dim=1)\n",
      ")\n",
      "tensor([[ 0.1020,  0.1092, -0.1402,  0.0032, -0.0067, -0.0752,  0.0588,  0.0576,\n",
      "         -0.0491, -0.0225]], grad_fn=<AddmmBackward0>)\n"
     ]
    }
   ],
   "source": [
    "model = Lenet5()\n",
    "print(model)\n",
    "\n",
    "pred = model(fashion_mnist_train[0][0].unsqueeze(0))\n",
    "print (pred)"
   ],
   "metadata": {
    "collapsed": false,
    "ExecuteTime": {
     "start_time": "2024-06-05T17:33:37.072045Z",
     "end_time": "2024-06-05T17:33:37.582327Z"
    }
   }
  },
  {
   "cell_type": "markdown",
   "source": [
    "## visualizing the model"
   ],
   "metadata": {
    "collapsed": false
   }
  },
  {
   "cell_type": "code",
   "execution_count": 120,
   "outputs": [],
   "source": [
    "tb_writer = SummaryWriter('runs/lenet5')\n",
    "\n",
    "# visualize the model in our tensorboard summary\n",
    "tb_writer.add_graph(model, fashion_mnist_train[0][0].unsqueeze(0))\n",
    "tb_writer.flush()\n",
    "\n"
   ],
   "metadata": {
    "collapsed": false,
    "ExecuteTime": {
     "start_time": "2024-06-05T17:33:46.001225Z",
     "end_time": "2024-06-05T17:33:46.760427Z"
    }
   }
  },
  {
   "cell_type": "code",
   "execution_count": 120,
   "outputs": [],
   "source": [],
   "metadata": {
    "collapsed": false,
    "ExecuteTime": {
     "start_time": "2024-06-05T17:33:48.247491Z",
     "end_time": "2024-06-05T17:33:48.258490Z"
    }
   }
  },
  {
   "cell_type": "markdown",
   "source": [],
   "metadata": {
    "collapsed": false
   }
  },
  {
   "cell_type": "markdown",
   "source": [
    "# Training the model"
   ],
   "metadata": {
    "collapsed": false
   }
  },
  {
   "cell_type": "code",
   "execution_count": 121,
   "outputs": [],
   "source": [
    "# hyperparameters\n",
    "batch_size = 256\n",
    "learning_rate = 0.001\n",
    "epochs = 100\n",
    "dropout = 0.2\n",
    "weight_decay = 0.0001\n",
    "batch_norm = False\n",
    "\n",
    "# training the model\n",
    "train_loader = DataLoader(fashion_mnist_train, batch_size=batch_size, shuffle=True)\n",
    "#split the dataset to test and validation\n",
    "test_loader = DataLoader(fashion_mnist_test, batch_size=batch_size, shuffle=False)\n",
    "val_loader = DataLoader(fashion_mnist_train, batch_size=batch_size, shuffle=False)\n",
    "criterion = nn.CrossEntropyLoss()\n",
    "optimizer = optim.Adam(model.parameters(), lr=learning_rate, weight_decay=weight_decay)"
   ],
   "metadata": {
    "collapsed": false,
    "ExecuteTime": {
     "start_time": "2024-06-05T17:33:50.620404Z",
     "end_time": "2024-06-05T17:33:50.702027Z"
    }
   }
  },
  {
   "cell_type": "code",
   "execution_count": 121,
   "outputs": [],
   "source": [],
   "metadata": {
    "collapsed": false,
    "ExecuteTime": {
     "start_time": "2024-06-05T17:33:53.872197Z",
     "end_time": "2024-06-05T17:33:53.930204Z"
    }
   }
  },
  {
   "cell_type": "markdown",
   "source": [
    "# training loop"
   ],
   "metadata": {
    "collapsed": false
   }
  },
  {
   "cell_type": "code",
   "execution_count": 122,
   "outputs": [],
   "source": [
    "def evaluate(model, val_loader):\n",
    "    \"\"\"\n",
    "    evaluate the model on the validation set\n",
    "    :param model: model to evaluate\n",
    "    :param val_loader: validation dataset loader\n",
    "    :return: (accuracy, loss)\n",
    "    \"\"\"\n",
    "    model.eval()\n",
    "    running_loss = 0.0\n",
    "    running_acc = 0\n",
    "    total = 0\n",
    "    with torch.no_grad():\n",
    "        for i, data in enumerate(val_loader, 0):\n",
    "            inputs, labels = data\n",
    "            outputs = model(inputs)\n",
    "            loss = criterion(outputs, labels)\n",
    "            running_loss += loss.item()\n",
    "            _, predicted = torch.max(outputs, 1)\n",
    "            running_acc += (predicted == labels).sum().item()\n",
    "            total += labels.size(0)\n",
    "        accuracy = running_acc / total\n",
    "        loss = running_loss/ len(val_loader)\n",
    "    return accuracy, loss"
   ],
   "metadata": {
    "collapsed": false,
    "ExecuteTime": {
     "start_time": "2024-06-05T17:33:55.006021Z",
     "end_time": "2024-06-05T17:33:55.020795Z"
    }
   }
  },
  {
   "cell_type": "code",
   "execution_count": 124,
   "outputs": [],
   "source": [
    "tb_writer = SummaryWriter('runs/lenet_2/with_dropout')\n",
    "tb_writer.flush()\n",
    "def train(model, train_loader, criterion, optimizer, epochs):\n",
    "    model.train()\n",
    "    for epoch in range(epochs):\n",
    "        running_loss = 0.0\n",
    "        running_corrects = 0\n",
    "        train_total = 0\n",
    "        # set the model to train mode\n",
    "        model.train(True)\n",
    "\n",
    "        for i, data in enumerate(train_loader, 0):\n",
    "\n",
    "            # get the input image and labels\n",
    "            inputs, labels = data\n",
    "\n",
    "            # start with zero gradients\n",
    "            optimizer.zero_grad()\n",
    "            # forward pass\n",
    "            outputs = model(inputs)\n",
    "            # calculate the loss\n",
    "            loss = criterion(outputs, labels)\n",
    "            loss.backward()\n",
    "            # update the weights\n",
    "            optimizer.step()\n",
    "            running_loss += loss.item()\n",
    "            _, preds = torch.max(outputs, 1)\n",
    "\n",
    "            running_corrects += (preds == labels).sum().item()\n",
    "            train_total += labels.size(0)\n",
    "\n",
    "            if i % 100 == 99:\n",
    "                # print gradient statistics\n",
    "                for name, param in model.named_parameters():\n",
    "                    tb_writer.add_histogram(name, param.grad, epoch * len(train_loader) +  i)\n",
    "                # loss of current batch\n",
    "                avg_train_loss = running_loss / 100\n",
    "                tb_writer.add_scalar('training loss', avg_train_loss, epoch * len(train_loader) +  i)\n",
    "\n",
    "                #print(f'[{epoch + 1}, {i + 1}] loss: {avg_train_loss}')\n",
    "                running_loss = 0.0\n",
    "        \"\"\"-----------------\n",
    "        per epoch evaluation\n",
    "        -----------------\"\"\"\n",
    "        # set the model to evaluation mode\n",
    "        model.eval()\n",
    "\n",
    "        #accuracy\n",
    "        train_accuracy = running_corrects / train_total\n",
    "        # validation\n",
    "        val_acc, val_loss = evaluate(model, val_loader)\n",
    "\n",
    "        #val_accuracy = (val_preds == val_labels).sum().item() / len(val_loader)\n",
    "        tb_writer.add_scalars('train vs val loss', {'train': avg_train_loss, 'val': val_loss}, epoch)\n",
    "        tb_writer.add_scalars('train vs val accuracy', {'train': train_accuracy, 'val': val_acc}, epoch)\n",
    "        print(f'at epoch {epoch}: \\nvalidation loss: {val_loss} \\ntraining loss:   {avg_train_loss} ')\n",
    "        tb_writer.add_scalar('validation loss', val_loss, epoch)\n",
    "    print('Finished Training')"
   ],
   "metadata": {
    "collapsed": false,
    "ExecuteTime": {
     "start_time": "2024-06-05T17:38:15.812752Z",
     "end_time": "2024-06-05T17:38:15.865168Z"
    }
   }
  },
  {
   "cell_type": "markdown",
   "source": [],
   "metadata": {
    "collapsed": false
   }
  },
  {
   "cell_type": "code",
   "execution_count": null,
   "outputs": [
    {
     "name": "stdout",
     "output_type": "stream",
     "text": [
      "at epoch 0: \n",
      "validation loss: 0.6099705376523606 \n",
      "training loss:   0.6796123152971267 \n",
      "at epoch 1: \n",
      "validation loss: 0.5165750541585556 \n",
      "training loss:   0.5607954424619674 \n",
      "at epoch 2: \n",
      "validation loss: 0.4743497092673119 \n",
      "training loss:   0.5028447988629341 \n",
      "at epoch 3: \n",
      "validation loss: 0.4736694613669781 \n",
      "training loss:   0.4665324944257736 \n",
      "at epoch 4: \n",
      "validation loss: 0.4313568045484259 \n",
      "training loss:   0.44483223170042036 \n",
      "at epoch 5: \n",
      "validation loss: 0.42220909696944214 \n",
      "training loss:   0.4289540436863899 \n",
      "at epoch 6: \n",
      "validation loss: 0.4003592124644746 \n",
      "training loss:   0.40373516708612445 \n",
      "at epoch 7: \n",
      "validation loss: 0.38744784745764227 \n",
      "training loss:   0.4003527101874351 \n",
      "at epoch 8: \n",
      "validation loss: 0.3737113432681307 \n",
      "training loss:   0.38946734070777894 \n",
      "at epoch 9: \n",
      "validation loss: 0.372053709689607 \n",
      "training loss:   0.37685834810137747 \n",
      "at epoch 10: \n",
      "validation loss: 0.36377433614527926 \n",
      "training loss:   0.37992454171180723 \n",
      "at epoch 11: \n",
      "validation loss: 0.36015069795415755 \n",
      "training loss:   0.3609670715034008 \n",
      "at epoch 12: \n",
      "validation loss: 0.3485529860283466 \n",
      "training loss:   0.3567369058728218 \n",
      "at epoch 13: \n",
      "validation loss: 0.3380923660511666 \n",
      "training loss:   0.359411675632 \n",
      "at epoch 14: \n",
      "validation loss: 0.35696565768820177 \n",
      "training loss:   0.3502557584643364 \n",
      "at epoch 15: \n",
      "validation loss: 0.3615784378761941 \n",
      "training loss:   0.34578614458441737 \n",
      "at epoch 16: \n",
      "validation loss: 0.34509915126130936 \n",
      "training loss:   0.34164789989590644 \n",
      "at epoch 17: \n",
      "validation loss: 0.3256187833370046 \n",
      "training loss:   0.33603003978729246 \n",
      "at epoch 18: \n",
      "validation loss: 0.3292188389504209 \n",
      "training loss:   0.33419729441404344 \n",
      "at epoch 19: \n",
      "validation loss: 0.31802731644599996 \n",
      "training loss:   0.33651235222816467 \n",
      "at epoch 20: \n",
      "validation loss: 0.31294787748062863 \n",
      "training loss:   0.3185940469801426 \n",
      "at epoch 21: \n",
      "validation loss: 0.31292767030127505 \n",
      "training loss:   0.3279898217320442 \n",
      "at epoch 22: \n",
      "validation loss: 0.29884435318885966 \n",
      "training loss:   0.3201743233203888 \n",
      "at epoch 23: \n",
      "validation loss: 0.30264170854649647 \n",
      "training loss:   0.3065951955318451 \n"
     ]
    }
   ],
   "source": [
    "train(model = model,\n",
    "      train_loader = train_loader,\n",
    "      criterion = criterion,\n",
    "      optimizer = optimizer,\n",
    "      epochs = epochs)"
   ],
   "metadata": {
    "collapsed": false,
    "ExecuteTime": {
     "start_time": "2024-06-04T10:56:19.781292Z",
     "end_time": "2024-06-04T11:03:34.010499Z"
    },
    "pycharm": {
     "is_executing": true
    }
   }
  },
  {
   "cell_type": "code",
   "execution_count": 117,
   "outputs": [
    {
     "data": {
      "text/plain": "<Figure size 2000x500 with 5 Axes>",
      "image/png": "[encoded data removed]"
     },
     "metadata": {},
     "output_type": "display_data"
    }
   ],
   "source": [
    "# testing the model\n",
    "\n",
    "imgs, labels = next(iter(test_loader))\n",
    "outputs = model(imgs)\n",
    "_, predicted = torch.max(outputs, 1)\n",
    "\n",
    "# visualize the images\n",
    "fig, ax = plt.subplots(1, 5, figsize=(20, 5))\n",
    "for i in range(5):\n",
    "    ax[i].imshow(imgs[i].squeeze(), cmap='gray')\n",
    "    ax[i].set_title(f'predicted: {fashion_mnist_train.classes[predicted[i]]}, actual: {fashion_mnist_train.classes[labels[i]]}')\n",
    "    ax[i].axis('off')"
   ],
   "metadata": {
    "collapsed": false,
    "ExecuteTime": {
     "start_time": "2024-06-04T16:33:57.943426Z",
     "end_time": "2024-06-04T16:33:59.054843Z"
    }
   }
  },
  {
   "cell_type": "markdown",
   "source": [
    "# Hyperparameters\n",
    "Let's investigate the results for different hyperparameters choices!\n",
    "tensorboard allows us to compare the results of different hyperparameters choices. We can compare the results of different hyperparameters choices using the tensorboard web interface. We can compare the training and validation loss for different hyperparameters choices using the tensorboard web interface."
   ],
   "metadata": {
    "collapsed": false
   }
  },
  {
   "cell_type": "code",
   "execution_count": 116,
   "outputs": [],
   "source": [
    "# hyperparameters\n",
    "dropout = [0.2, 0.3, 0.5]"
   ],
   "metadata": {
    "collapsed": false,
    "ExecuteTime": {
     "start_time": "2024-06-04T16:33:45.001452Z",
     "end_time": "2024-06-04T16:33:45.022840Z"
    }
   }
  },
  {
   "cell_type": "code",
   "execution_count": null,
   "outputs": [],
   "source": [],
   "metadata": {
    "collapsed": false
   }
  }
 ],
 "metadata": {
  "kernelspec": {
   "display_name": "Python 3",
   "language": "python",
   "name": "python3"
  },
  "language_info": {
   "codemirror_mode": {
    "name": "ipython",
    "version": 2
   },
   "file_extension": ".py",
   "mimetype": "text/x-python",
   "name": "python",
   "nbconvert_exporter": "python",
   "pygments_lexer": "ipython2",
   "version": "2.7.6"
  }
 },
 "nbformat": 4,
 "nbformat_minor": 0
}
