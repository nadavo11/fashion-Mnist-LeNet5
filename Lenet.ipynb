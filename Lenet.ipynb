{
 "cells": [
  {
   "cell_type": "code",
   "execution_count": 4,
   "metadata": {
    "collapsed": true,
    "ExecuteTime": {
     "start_time": "2024-06-20T09:27:55.658843Z",
     "end_time": "2024-06-20T09:28:02.440567Z"
    }
   },
   "outputs": [
    {
     "name": "stdout",
     "output_type": "stream",
     "text": [
      "Requirement already satisfied: tensorboard in c:\\users\\nadav\\appdata\\roaming\\python\\python310\\site-packages (2.17.0)\n",
      "Requirement already satisfied: absl-py>=0.4 in c:\\users\\nadav\\appdata\\roaming\\python\\python310\\site-packages (from tensorboard) (1.4.0)\n",
      "Requirement already satisfied: grpcio>=1.48.2 in c:\\users\\nadav\\appdata\\roaming\\python\\python310\\site-packages (from tensorboard) (1.64.1)\n",
      "Requirement already satisfied: markdown>=2.6.8 in c:\\users\\nadav\\appdata\\roaming\\python\\python310\\site-packages (from tensorboard) (3.6)\n",
      "Requirement already satisfied: numpy>=1.12.0 in c:\\users\\nadav\\appdata\\roaming\\python\\python310\\site-packages (from tensorboard) (1.24.4)\n",
      "Requirement already satisfied: protobuf!=4.24.0,<5.0.0,>=3.19.6 in c:\\users\\nadav\\appdata\\roaming\\python\\python310\\site-packages (from tensorboard) (3.20.3)\n",
      "Requirement already satisfied: setuptools>=41.0.0 in c:\\users\\nadav\\anaconda3\\envs\\pythonproject5\\lib\\site-packages (from tensorboard) (68.2.2)\n",
      "Requirement already satisfied: six>1.9 in c:\\users\\nadav\\appdata\\roaming\\python\\python310\\site-packages (from tensorboard) (1.16.0)\n",
      "Requirement already satisfied: tensorboard-data-server<0.8.0,>=0.7.0 in c:\\users\\nadav\\appdata\\roaming\\python\\python310\\site-packages (from tensorboard) (0.7.2)\n",
      "Requirement already satisfied: werkzeug>=1.0.1 in c:\\users\\nadav\\appdata\\roaming\\python\\python310\\site-packages (from tensorboard) (3.0.3)\n",
      "Requirement already satisfied: MarkupSafe>=2.1.1 in c:\\users\\nadav\\appdata\\roaming\\python\\python310\\site-packages (from werkzeug>=1.0.1->tensorboard) (2.1.5)\n"
     ]
    }
   ],
   "source": [
    "#1\n",
    "\n",
    "! pip install tensorboard"
   ]
  },
  {
   "cell_type": "markdown",
   "source": [
    "# Lenet-5 for fashion mnist"
   ],
   "metadata": {
    "collapsed": false
   }
  },
  {
   "cell_type": "code",
   "execution_count": 32,
   "outputs": [],
   "source": [
    "import numpy as np\n",
    "import torch\n",
    "import torch.nn as nn\n",
    "import torch.optim as optim\n",
    "import torch.nn.functional as F\n",
    "from torch.utils.data import DataLoader\n",
    "from torchvision import datasets, transforms\n",
    "import matplotlib.pyplot as plt\n",
    "from torch.utils.tensorboard import SummaryWriter\n",
    "import os"
   ],
   "metadata": {
    "collapsed": false,
    "ExecuteTime": {
     "start_time": "2024-06-22T20:49:30.578132Z",
     "end_time": "2024-06-22T20:49:30.596335Z"
    }
   }
  },
  {
   "cell_type": "markdown",
   "source": [
    "# fasion-MNIST dataset\n",
    "\n",
    "the fasion-MNIST dataset is a dataset of Zalando's article images consisting of a training set of 60,000 examples and a test set of 10,000 examples. Each example is a 28x28 grayscale image, associated with a label from 10 classes. Zalando intends fasion-MNIST to serve as a direct drop-in replacement for the original MNIST dataset for benchmarking machine learning algorithms. It shares the same image size and structure of training and testing splits.\n",
    "\n",
    "## loading the dataset\n",
    "The dataset can be used from `torchvision.datasets` package. The dataset is downloaded from the internet and saved in the `data` directory. The dataset is loaded using the `torch.utils.data.DataLoader` class. The `DataLoader` class is used to load the data in batches. The `DataLoader` class takes the dataset and the batch size as input and provides an iterator to iterate over the dataset in batches.\n",
    "\n",
    "\n",
    "## Transforms\n",
    "### resize:\n",
    " The images in the fasion-MNIST dataset are of size 28x28. So, it makes sense to use the `transforms.Resize` to convert the images to a size that is compatible with the LeNet-5 architecture's input. The LeNet-5 architecture expects images of size 32x32 as input.\n",
    "the original size of the images in the MNIST dataset is 28x28.\n",
    "\n",
    "### ToTensor:\n",
    "The `transforms.ToTensor` converts the images to PyTorch tensors. The images in the fasion-MNIST dataset are of type `PIL.Image.Image`. The `transforms.ToTensor` converts the images to PyTorch tensors of shape `(C, H, W)` where `C` is the number of channels, `H` is the height of the image, and `W` is the width of the image. The images in the fasion-MNIST dataset are grayscale images, so the number of channels is 1. The shape of the images after applying the `transforms.ToTensor` is `(1, 32, 32)`.\n"
   ],
   "metadata": {
    "collapsed": false
   }
  },
  {
   "cell_type": "code",
   "execution_count": 33,
   "outputs": [],
   "source": [
    "fashion_mnist_train = datasets.FashionMNIST('data', train=True, download=True, transform=transforms.Compose([\n",
    "    transforms.Resize((32, 32)),\n",
    "    transforms.ToTensor()\n",
    "]))"
   ],
   "metadata": {
    "collapsed": false,
    "ExecuteTime": {
     "start_time": "2024-06-22T20:49:33.392694Z",
     "end_time": "2024-06-22T20:49:33.554380Z"
    }
   }
  },
  {
   "cell_type": "markdown",
   "source": [
    "## Test dataset"
   ],
   "metadata": {
    "collapsed": false
   }
  },
  {
   "cell_type": "code",
   "execution_count": 34,
   "outputs": [],
   "source": [
    "fashion_mnist_test = datasets.FashionMNIST('data', train=False, download=True, transform=transforms.Compose([\n",
    "    transforms.Resize((32, 32)),\n",
    "    transforms.ToTensor()\n",
    "]))"
   ],
   "metadata": {
    "collapsed": false,
    "ExecuteTime": {
     "start_time": "2024-06-22T20:49:39.668434Z",
     "end_time": "2024-06-22T20:49:39.735839Z"
    }
   }
  },
  {
   "cell_type": "markdown",
   "source": [
    "### split the dataset to test and validation"
   ],
   "metadata": {
    "collapsed": false
   }
  },
  {
   "cell_type": "code",
   "execution_count": 35,
   "outputs": [],
   "source": [
    "from torch.utils.data import DataLoader, Subset\n",
    "from sklearn.model_selection import train_test_split\n",
    "\n",
    "# Split fashion_mnist_train into train and val sets\n",
    "train_indices, val_indices = train_test_split(list(range(len(fashion_mnist_train))), test_size=0.2, random_state=42)\n",
    "\n",
    "train_subset = Subset(fashion_mnist_train, train_indices)\n",
    "val_subset = Subset(fashion_mnist_train, val_indices)\n",
    "\n",
    "# DataLoaders\n",
    "batch_size = 64\n",
    "\n",
    "train_loader = DataLoader(train_subset, batch_size=batch_size, shuffle=True)\n",
    "val_loader = DataLoader(val_subset, batch_size=batch_size, shuffle=False)\n",
    "test_loader = DataLoader(fashion_mnist_test, batch_size=batch_size, shuffle=False)\n"
   ],
   "metadata": {
    "collapsed": false,
    "ExecuteTime": {
     "start_time": "2024-06-22T20:49:41.264020Z",
     "end_time": "2024-06-22T20:49:41.305087Z"
    }
   }
  },
  {
   "cell_type": "markdown",
   "source": [
    "## Tensorboard\n",
    "\n",
    "tensorboard is a visualization tool that can be used to visualize the training process of a deep learning model. The `torch.utils.tensorboard.SummaryWriter` class is used to write the logs to the tensorboard. The `SummaryWriter` class takes the log directory as input. The logs are written to the log directory in the form of event files. The event files can be visualized using the tensorboard web interface.\n",
    "\n"
   ],
   "metadata": {
    "collapsed": false
   }
  },
  {
   "cell_type": "code",
   "execution_count": 36,
   "outputs": [],
   "source": [
    "#%tensorboard --logdir runs\n",
    "log_dir = os.path.join(os.getcwd(), \"runs\")\n",
    "os.makedirs(log_dir, exist_ok=True)\n"
   ],
   "metadata": {
    "collapsed": false,
    "ExecuteTime": {
     "start_time": "2024-06-22T20:49:43.209702Z",
     "end_time": "2024-06-22T20:49:43.268111Z"
    }
   }
  },
  {
   "cell_type": "markdown",
   "source": [
    "## Visualize the dataset\n",
    "let's draw 5 random images from the dataset and visualize them. The images are grayscale images of size 32x32. The images are converted to PyTorch tensors of shape `(1, 32, 32)` using the `transforms.ToTensor` transform. The images are then visualized using the `matplotlib.pyplot.imshow` function. we can also decode the labels to see how the images are labeled."
   ],
   "metadata": {
    "collapsed": false
   }
  },
  {
   "cell_type": "code",
   "execution_count": 37,
   "outputs": [
    {
     "data": {
      "text/plain": "<Figure size 2000x500 with 5 Axes>",
      "image/png": "[encoded data removed]"
     },
     "metadata": {},
     "output_type": "display_data"
    }
   ],
   "source": [
    "# get 5 images\n",
    "imgs = [0]*5\n",
    "labels = [0]*5\n",
    "for idx, i in enumerate(np.random.randint(0, len(fashion_mnist_train), 5)):\n",
    "    imgs[idx], labels[idx] = fashion_mnist_train[i]\n",
    "\n",
    "#visualize the 5 image\n",
    "fig, ax = plt.subplots(1, 5, figsize=(20, 5))\n",
    "for i in range(5):\n",
    "    ax[i].imshow(imgs[i].permute(1, 2, 0), cmap='gray')\n",
    "    ax[i].set_title(fashion_mnist_train.classes[labels[i]])\n",
    "    ax[i].axis('off')\n",
    "    #decode the label\n",
    "    label = fashion_mnist_train.classes[labels[i]]\n"
   ],
   "metadata": {
    "collapsed": false,
    "ExecuteTime": {
     "start_time": "2024-06-22T20:49:46.127223Z",
     "end_time": "2024-06-22T20:49:47.397222Z"
    }
   }
  },
  {
   "cell_type": "markdown",
   "source": [
    "markdown bold text -"
   ],
   "metadata": {
    "collapsed": false
   }
  },
  {
   "cell_type": "markdown",
   "source": [
    "# LeNet-5 Architecture\n",
    "The LeNet-5 architecture is a convolutional neural network architecture proposed by Yann LeCun in 1998. The LeNet-5 architecture consists of 7 layers. The architecture of the LeNet-5 is as follows:\n",
    "\n",
    "#### **input layer:**\n",
    "The input to the LeNet-5 architecture is a grayscale image of size 32x32.\n",
    "\n",
    "#### Convolution & Average Pooling Layers:\n",
    "next, the input image is passed through a convolutional layer followed by an average pooling layer.\n",
    "The convolutional layer has 6 filters of size 5x5.\n",
    "- **kernel size:** 5x5\n",
    "-  **channels:** $1 \\rightarrow 6$\n",
    "- **stride:** 1\n",
    "The average pooling layer has a filter of size 2x2.\n",
    "- **kernel size:** 2x2\n",
    "- **stride:** 2\n",
    "\n",
    "#### 2nd Convolution & Average Pooling Layers:\n",
    "The output from the first average pooling layer is passed through another convolutional layer followed by another average pooling layer.\n",
    "The convolutional layer has 16 filters of size 5x5.\n",
    "- **kernel size:** 5x5\n",
    "- **channels:** $6 \\rightarrow 16$\n",
    "- **stride:** 1\n",
    "average pooling layer has a filter of size 2x2.\n",
    "- **kernel size:** 2x2\n",
    "- **stride:** 2\n",
    "\n",
    "#### convolutional layer:\n",
    "The output from the second average pooling layer is passed through another convolutional layer.\n",
    "- **kernel size:** 5x5\n",
    "- **output channels:** 120\n",
    "- **stride:** 1\n",
    "\n",
    "#### Fully Connected Layers:\n",
    "The output from the last convolutional layer is flattened and passed through 3 fully connected layers:\n",
    "- **1st fully connected layer:** $120 \\rightarrow 84$\n",
    "- **2nd fully connected layer:** $84 \\rightarrow 10$\n",
    "#### Output Layer:\n",
    "The output from the last fully connected layer is passed through a softmax activation function to get the best of 10 class probabilities.\n",
    "\n"
   ],
   "metadata": {
    "collapsed": false
   }
  },
  {
   "cell_type": "code",
   "execution_count": 38,
   "outputs": [],
   "source": [
    "class Lenet5(nn.Module):\n",
    "    def __init__(self, dropout_prob=0, batch_norm=False):\n",
    "        super(Lenet5, self).__init__()\n",
    "        self.batch_norm1 = nn.BatchNorm2d(6) if batch_norm else nn.Identity()\n",
    "        self.batch_norm2 = nn.BatchNorm2d(16) if batch_norm else nn.Identity()\n",
    "        self.batch_norm3 = nn.BatchNorm2d(120) if batch_norm else nn.Identity()\n",
    "        self.batch_norm_fc1 = nn.BatchNorm1d(84) if batch_norm else nn.Identity()\n",
    "        self.dropout_prob = dropout_prob\n",
    "        self.conv1 = nn.Sequential(\n",
    "            nn.Conv2d(1, 6, kernel_size=5, stride=1),\n",
    "            nn.Tanh(),\n",
    "            nn.AvgPool2d(kernel_size=2, stride=2),\n",
    "            nn.Tanh(),\n",
    "            self.batch_norm1,\n",
    "        )\n",
    "        self.conv2 = nn.Sequential(\n",
    "            nn.Conv2d(6, 16, kernel_size=5, stride=1),\n",
    "            nn.Tanh(),\n",
    "            nn.AvgPool2d(kernel_size=2, stride=2),\n",
    "            nn.Tanh(),\n",
    "            self.batch_norm2,\n",
    "        )\n",
    "        self.conv3 = nn.Sequential(\n",
    "            nn.Conv2d(16, 120, kernel_size=5, stride=1),\n",
    "            nn.Tanh(),\n",
    "            self.batch_norm3,\n",
    "        )\n",
    "\n",
    "        # fully connected layers\n",
    "        self.fc1 = nn.Sequential(\n",
    "            nn.Linear(120, 84),\n",
    "            nn.Tanh(),\n",
    "            self.batch_norm_fc1,)\n",
    "\n",
    "        self.fc2 = nn.Linear(84, 10)\n",
    "        self.softmax = nn.Softmax(dim=1)\n",
    "        self.dropout = nn.Dropout(self.dropout_prob)\n",
    "\n",
    "    def forward(self, x):\n",
    "        x = self.conv1(x)\n",
    "        x = self.conv2(x)\n",
    "        x = self.dropout(x)\n",
    "        x = self.conv3(x)\n",
    "        x = self.dropout(x)\n",
    "        x = x.view(x.size(0), -1)\n",
    "        x = self.fc1(x)\n",
    "        x = self.fc2(x)\n",
    "        #x = self.softmax(x)\n",
    "        return x\n"
   ],
   "metadata": {
    "collapsed": false,
    "ExecuteTime": {
     "start_time": "2024-06-22T20:49:54.531807Z",
     "end_time": "2024-06-22T20:49:54.571159Z"
    }
   }
  },
  {
   "cell_type": "markdown",
   "source": [
    "let's initialize the model and print the model summary.then let's try it on a single batch of images to see if the model is working correctly."
   ],
   "metadata": {
    "collapsed": false
   }
  },
  {
   "cell_type": "code",
   "execution_count": 39,
   "outputs": [
    {
     "name": "stdout",
     "output_type": "stream",
     "text": [
      "Lenet5(\n",
      "  (batch_norm1): Identity()\n",
      "  (batch_norm2): Identity()\n",
      "  (batch_norm3): Identity()\n",
      "  (batch_norm_fc1): Identity()\n",
      "  (conv1): Sequential(\n",
      "    (0): Conv2d(1, 6, kernel_size=(5, 5), stride=(1, 1))\n",
      "    (1): Tanh()\n",
      "    (2): AvgPool2d(kernel_size=2, stride=2, padding=0)\n",
      "    (3): Tanh()\n",
      "    (4): Identity()\n",
      "  )\n",
      "  (conv2): Sequential(\n",
      "    (0): Conv2d(6, 16, kernel_size=(5, 5), stride=(1, 1))\n",
      "    (1): Tanh()\n",
      "    (2): AvgPool2d(kernel_size=2, stride=2, padding=0)\n",
      "    (3): Tanh()\n",
      "    (4): Identity()\n",
      "  )\n",
      "  (conv3): Sequential(\n",
      "    (0): Conv2d(16, 120, kernel_size=(5, 5), stride=(1, 1))\n",
      "    (1): Tanh()\n",
      "    (2): Identity()\n",
      "  )\n",
      "  (fc1): Sequential(\n",
      "    (0): Linear(in_features=120, out_features=84, bias=True)\n",
      "    (1): Tanh()\n",
      "    (2): Identity()\n",
      "  )\n",
      "  (fc2): Linear(in_features=84, out_features=10, bias=True)\n",
      "  (softmax): Softmax(dim=1)\n",
      "  (dropout): Dropout(p=0, inplace=False)\n",
      ")\n",
      "tensor([[-0.1861, -0.0308,  0.1992, -0.1237, -0.0709, -0.0563, -0.0628,  0.0377,\n",
      "         -0.0273,  0.1176]], grad_fn=<AddmmBackward0>)\n"
     ]
    }
   ],
   "source": [
    "model = Lenet5()\n",
    "print(model)\n",
    "\n",
    "pred = model(fashion_mnist_train[0][0].unsqueeze(0))\n",
    "print (pred)"
   ],
   "metadata": {
    "collapsed": false,
    "ExecuteTime": {
     "start_time": "2024-06-22T20:50:00.889652Z",
     "end_time": "2024-06-22T20:50:01.215998Z"
    }
   }
  },
  {
   "cell_type": "markdown",
   "source": [
    "## visualizing the model"
   ],
   "metadata": {
    "collapsed": false
   }
  },
  {
   "cell_type": "code",
   "execution_count": 40,
   "outputs": [],
   "source": [
    "tb_writer = SummaryWriter('runs/lenet5')\n",
    "\n",
    "# visualize the model in our tensorboard summary\n",
    "tb_writer.add_graph(model, fashion_mnist_train[0][0].unsqueeze(0))\n",
    "tb_writer.flush()\n",
    "\n"
   ],
   "metadata": {
    "collapsed": false,
    "ExecuteTime": {
     "start_time": "2024-06-22T20:50:05.893583Z",
     "end_time": "2024-06-22T20:50:06.481428Z"
    }
   }
  },
  {
   "cell_type": "markdown",
   "source": [
    "# Training the model"
   ],
   "metadata": {
    "collapsed": false
   }
  },
  {
   "cell_type": "code",
   "execution_count": 48,
   "outputs": [],
   "source": [
    "# hyperparameters\n",
    "batch_size = 256\n",
    "dropout_prob = 0.3\n",
    "weight_decay = 0.0001\n",
    "batch_norm = False\n",
    "learning_rate= 1e-3\n",
    "epochs = 100\n",
    "criterion = nn.CrossEntropyLoss()\n",
    "\n",
    "\n",
    "# training the model\n",
    "train_loader = DataLoader(train_subset, batch_size=batch_size, shuffle=True)\n",
    "val_loader = DataLoader(val_subset, batch_size=batch_size, shuffle=False)\n",
    "test_loader = DataLoader(fashion_mnist_test, batch_size=batch_size, shuffle=False)\n",
    "\n",
    "criterion = nn.CrossEntropyLoss()\n",
    "optimizer = optim.Adam(model.parameters(), lr=learning_rate, weight_decay=weight_decay)"
   ],
   "metadata": {
    "collapsed": false,
    "ExecuteTime": {
     "start_time": "2024-06-22T22:27:21.302269Z",
     "end_time": "2024-06-22T22:27:21.351729Z"
    }
   }
  },
  {
   "cell_type": "markdown",
   "source": [
    "# training loop"
   ],
   "metadata": {
    "collapsed": false
   }
  },
  {
   "cell_type": "code",
   "execution_count": 49,
   "outputs": [],
   "source": [
    "def evaluate(model, val_loader):\n",
    "    \"\"\"\n",
    "    evaluate the model on the validation set\n",
    "    :param model: model to evaluate\n",
    "    :param val_loader: validation dataset loader\n",
    "    :return: (accuracy, loss)\n",
    "    \"\"\"\n",
    "    model.eval()\n",
    "    running_loss = 0.0\n",
    "    running_acc = 0\n",
    "    total = 0\n",
    "    with torch.no_grad():\n",
    "        for i, data in enumerate(val_loader, 0):\n",
    "            inputs, labels = data\n",
    "            outputs = model(inputs)\n",
    "            loss = criterion(outputs, labels)\n",
    "            running_loss += loss.item()\n",
    "            _, predicted = torch.max(outputs, 1)\n",
    "            running_acc += (predicted == labels).sum().item()\n",
    "            total += labels.size(0)\n",
    "        accuracy = running_acc / total\n",
    "        loss = running_loss/ len(val_loader)\n",
    "    return accuracy, loss"
   ],
   "metadata": {
    "collapsed": false,
    "ExecuteTime": {
     "start_time": "2024-06-22T22:27:37.875648Z",
     "end_time": "2024-06-22T22:27:37.903146Z"
    }
   }
  },
  {
   "cell_type": "code",
   "execution_count": 51,
   "outputs": [],
   "source": [
    "\n",
    "\n",
    "from datetime import datetime\n",
    "\n",
    "\n",
    "def train(model = Lenet5,\n",
    "          train_loader=train_loader,\n",
    "          val_loader=val_loader,\n",
    "          criterion = criterion,\n",
    "          optimizer = optimizer,\n",
    "          epochs=epochs,\n",
    "          session = None,\n",
    "          ):\n",
    "\n",
    "    # track with tensorboard\n",
    "    session = session or 'Lenet5'+datetime.now().strftime('%m-%d-%H-%M')\n",
    "    #tb_writer = SummaryWriter(f'runs/{session}')\n",
    "    run_dir = f'{log_dir}/{session}'\n",
    "    print(run_dir)\n",
    "    tb_writer = SummaryWriter(run_dir)\n",
    "    tb_writer.flush()\n",
    "\n",
    "    model.train()\n",
    "    for epoch in range(epochs):\n",
    "        running_loss = 0.0\n",
    "        running_corrects = 0\n",
    "        train_total = 0\n",
    "        val_loss_min = 0\n",
    "        # set the model to train mode\n",
    "        model.train(True)\n",
    "\n",
    "        for i, data in enumerate(train_loader, 0):\n",
    "\n",
    "            # get the input image and labels\n",
    "            inputs, labels = data\n",
    "\n",
    "            # start with zero gradients\n",
    "            optimizer.zero_grad()\n",
    "            # forward pass\n",
    "            outputs = model(inputs)\n",
    "            # calculate the loss\n",
    "            loss = criterion(outputs, labels)\n",
    "            loss.backward()\n",
    "            # update the weights\n",
    "            optimizer.step()\n",
    "            running_loss += loss.item()\n",
    "            _, preds = torch.max(outputs, 1)\n",
    "\n",
    "            running_corrects += (preds == labels).sum().item()\n",
    "            train_total += labels.size(0)\n",
    "\n",
    "            if i % 100 == 99:\n",
    "                # print gradient statistics\n",
    "                for name, param in model.named_parameters():\n",
    "                    tb_writer.add_histogram(name, param.grad, epoch * len(train_loader) +  i)\n",
    "                # loss of current batch\n",
    "                avg_train_loss = running_loss / 100\n",
    "                tb_writer.add_scalar('training loss', avg_train_loss, epoch * len(train_loader) +  i)\n",
    "\n",
    "                #print(f'[{epoch + 1}, {i + 1}] loss: {avg_train_loss}')\n",
    "                running_loss = 0.0\n",
    "        \"\"\"-----------------\n",
    "        per epoch evaluation\n",
    "        -----------------\"\"\"\n",
    "        # set the model to evaluation mode\n",
    "        model.eval()\n",
    "\n",
    "        #accuracy\n",
    "        train_accuracy = running_corrects / train_total\n",
    "        # validation\n",
    "        val_acc, val_loss = evaluate(model, val_loader)\n",
    "\n",
    "        #val_accuracy = (val_preds == val_labels).sum().item() / len(val_loader)\n",
    "        tb_writer.add_scalars('train vs val loss', {'train': avg_train_loss, 'val': val_loss}, epoch)\n",
    "        tb_writer.add_scalars('train vs val accuracy', {'train': train_accuracy, 'val': val_acc}, epoch)\n",
    "        print(f'at epoch {epoch}: \\nvalidation loss: {val_loss} \\ntraining loss:   {avg_train_loss} ')\n",
    "        tb_writer.add_scalar('validation loss', val_loss, epoch)\n",
    "        if val_loss <= val_loss_min:\n",
    "            print('validation loss decreased({:.6f} -->{:.6f}). Saving Model ...'.format(valid_loss_min, val_loss))\n",
    "            torch.save(model.state_dict(), f'./models/Lenet_{session}.pth')\n",
    "            valid_loss_min = val_loss\n",
    "    print('Finished Training')"
   ],
   "metadata": {
    "collapsed": false,
    "ExecuteTime": {
     "start_time": "2024-06-22T22:27:55.290374Z",
     "end_time": "2024-06-22T22:27:55.313853Z"
    }
   }
  },
  {
   "cell_type": "markdown",
   "source": [
    "# Hyperparameters\n",
    "Let's investigate the results for different hyperparameters choices!\n",
    "tensorboard allows us to compare the results of different hyperparameters choices. We can compare the results of different hyperparameters choices using the tensorboard web interface. We can compare the training and validation loss for different hyperparameters choices using the tensorboard web interface."
   ],
   "metadata": {
    "collapsed": false
   }
  },
  {
   "cell_type": "markdown",
   "source": [
    "## training the model"
   ],
   "metadata": {
    "collapsed": false
   }
  },
  {
   "cell_type": "code",
   "execution_count": null,
   "outputs": [
    {
     "name": "stdout",
     "output_type": "stream",
     "text": [
      "C:\\Users\\nadav\\DataspellProjects\\Lenet5\\runs/vanilla lenet5\n",
      "at epoch 0: \n",
      "validation loss: 0.5750184788348827 \n",
      "training loss:   1.131961368918419 \n",
      "at epoch 1: \n",
      "validation loss: 0.5001709296348247 \n",
      "training loss:   0.5480332705378532 \n",
      "at epoch 2: \n",
      "validation loss: 0.4467396279598804 \n",
      "training loss:   0.47117570906877515 \n",
      "at epoch 3: \n",
      "validation loss: 0.4079369458746403 \n",
      "training loss:   0.42940619319677353 \n",
      "at epoch 4: \n",
      "validation loss: 0.38723451977080486 \n",
      "training loss:   0.39179690450429916 \n",
      "at epoch 5: \n",
      "validation loss: 0.3719660443194369 \n",
      "training loss:   0.37538076773285867 \n",
      "at epoch 6: \n",
      "validation loss: 0.3609469368102703 \n",
      "training loss:   0.35577058508992193 \n",
      "at epoch 7: \n",
      "validation loss: 0.3680180206577829 \n",
      "training loss:   0.33859179735183714 \n",
      "at epoch 8: \n",
      "validation loss: 0.3409482006062853 \n",
      "training loss:   0.32834951430559156 \n",
      "at epoch 9: \n",
      "validation loss: 0.3339720951749923 \n",
      "training loss:   0.31252597495913503 \n",
      "at epoch 10: \n",
      "validation loss: 0.3450011087858931 \n",
      "training loss:   0.306565900593996 \n",
      "at epoch 11: \n",
      "validation loss: 0.3247321260736344 \n",
      "training loss:   0.2938353797793388 \n",
      "at epoch 12: \n",
      "validation loss: 0.317031666319421 \n",
      "training loss:   0.284014982432127 \n",
      "at epoch 13: \n",
      "validation loss: 0.31246301056222714 \n",
      "training loss:   0.2715241377055645 \n",
      "at epoch 14: \n",
      "validation loss: 0.3186520410979048 \n",
      "training loss:   0.26913534715771675 \n",
      "at epoch 15: \n",
      "validation loss: 0.30476684519585145 \n",
      "training loss:   0.2601511338353157 \n",
      "at epoch 16: \n",
      "validation loss: 0.3087611604244151 \n",
      "training loss:   0.25786840468645095 \n",
      "at epoch 17: \n",
      "validation loss: 0.30763823047597355 \n",
      "training loss:   0.24666321888566017 \n",
      "at epoch 18: \n",
      "validation loss: 0.3053878815250194 \n",
      "training loss:   0.24522758156061172 \n",
      "at epoch 19: \n",
      "validation loss: 0.2984706829202936 \n",
      "training loss:   0.2375911755859852 \n",
      "at epoch 20: \n",
      "validation loss: 0.29717727100595515 \n",
      "training loss:   0.23004576742649077 \n",
      "at epoch 21: \n",
      "validation loss: 0.31089481267523256 \n",
      "training loss:   0.22501533940434457 \n",
      "at epoch 22: \n",
      "validation loss: 0.2997180271021863 \n",
      "training loss:   0.21862375110387802 \n",
      "at epoch 23: \n",
      "validation loss: 0.2988231470610233 \n",
      "training loss:   0.21510593995451927 \n",
      "at epoch 24: \n",
      "validation loss: 0.295247753249838 \n",
      "training loss:   0.20903156004846096 \n",
      "at epoch 25: \n",
      "validation loss: 0.2990826314434092 \n",
      "training loss:   0.2025584477186203 \n",
      "at epoch 26: \n",
      "validation loss: 0.2945928564097019 \n",
      "training loss:   0.19776675045490266 \n",
      "at epoch 27: \n",
      "validation loss: 0.29510327349317833 \n",
      "training loss:   0.1908744777739048 \n",
      "at epoch 28: \n",
      "validation loss: 0.30027053140579385 \n",
      "training loss:   0.1877696043252945 \n",
      "at epoch 29: \n",
      "validation loss: 0.29958718761484676 \n",
      "training loss:   0.18530487395823003 \n",
      "at epoch 30: \n",
      "validation loss: 0.2970402015650526 \n",
      "training loss:   0.18396093130111693 \n",
      "at epoch 31: \n",
      "validation loss: 0.3031365601940358 \n",
      "training loss:   0.17782330729067325 \n",
      "at epoch 32: \n",
      "validation loss: 0.30391051858029466 \n",
      "training loss:   0.1710739719122648 \n",
      "at epoch 33: \n",
      "validation loss: 0.30013653160409726 \n",
      "training loss:   0.17163448691368102 \n",
      "at epoch 34: \n",
      "validation loss: 0.3046335096054889 \n",
      "training loss:   0.1680525028705597 \n",
      "at epoch 35: \n",
      "validation loss: 0.31295705602524126 \n",
      "training loss:   0.16213944748044015 \n",
      "at epoch 36: \n",
      "validation loss: 0.3112928379089274 \n",
      "training loss:   0.1590271456539631 \n"
     ]
    }
   ],
   "source": [
    "learning_rate= 1e-3\n",
    "epochs = 100\n",
    "criterion = nn.CrossEntropyLoss()\n",
    "model = Lenet5(dropout_prob=0, batch_norm=False)\n",
    "optimizer = optim.Adam(model.parameters(), lr=learning_rate)\n",
    "\n",
    "\n",
    "\n",
    "train(model = model,\n",
    "      val_loader=val_loader,\n",
    "      train_loader = train_loader,\n",
    "      criterion = criterion,\n",
    "      optimizer = optimizer,\n",
    "      epochs = epochs,\n",
    "      session='vanilla lenet5')"
   ],
   "metadata": {
    "collapsed": false,
    "pycharm": {
     "is_executing": true
    }
   }
  },
  {
   "cell_type": "markdown",
   "source": [
    "# training the model with batch normalization\n"
   ],
   "metadata": {
    "collapsed": false
   }
  },
  {
   "cell_type": "code",
   "execution_count": null,
   "outputs": [],
   "source": [
    "learning_rate= 1e-3\n",
    "epochs = 100\n",
    "criterion = nn.CrossEntropyLoss()\n",
    "model = Lenet5(batch_norm=True)\n",
    "optimizer = optim.Adam(model.parameters(), lr=learning_rate)\n",
    "\n",
    "\n",
    "train(model = model,\n",
    "        val_loader=val_loader,\n",
    "      train_loader = train_loader,\n",
    "      criterion = criterion,\n",
    "      optimizer = optimizer,\n",
    "      epochs = epochs,\n",
    "      session = 'with batch norm')"
   ],
   "metadata": {
    "collapsed": false
   }
  },
  {
   "cell_type": "markdown",
   "source": [
    "# training the model with weight decay"
   ],
   "metadata": {
    "collapsed": false
   }
  },
  {
   "cell_type": "code",
   "execution_count": null,
   "outputs": [],
   "source": [
    "learning_rate= 1e-3\n",
    "epochs = 100\n",
    "criterion = nn.CrossEntropyLoss()\n",
    "model = Lenet5(batch_norm=False)\n",
    "optimizer = optim.Adam(model.parameters(), lr=learning_rate, weight_decay=0.0001)\n",
    "\n",
    "\n",
    "train(model = model,\n",
    "        val_loader=val_loader,\n",
    "      train_loader = train_loader,\n",
    "      criterion = criterion,\n",
    "      optimizer = optimizer,\n",
    "      epochs = epochs,\n",
    "      session = 'with weight decay')\n",
    "\n"
   ],
   "metadata": {
    "collapsed": false
   }
  },
  {
   "cell_type": "markdown",
   "source": [
    "## training the model with weight decay $e^{-3}$"
   ],
   "metadata": {
    "collapsed": false
   }
  },
  {
   "cell_type": "code",
   "execution_count": null,
   "outputs": [],
   "source": [
    "learning_rate= 1e-3\n",
    "epochs = 100\n",
    "criterion = nn.CrossEntropyLoss()\n",
    "model = Lenet5()\n",
    "optimizer = optim.Adam(model.parameters(), lr=learning_rate, weight_decay=0.001)\n",
    "\n",
    "\n",
    "train(model = model,\n",
    "        val_loader=val_loader,\n",
    "      train_loader = train_loader,\n",
    "      criterion = criterion,\n",
    "      optimizer = optimizer,\n",
    "      epochs = epochs,\n",
    "      session = 'with weight decay e-3')\n"
   ],
   "metadata": {
    "collapsed": false
   }
  },
  {
   "cell_type": "markdown",
   "source": [
    "## Training with dropout:\n",
    "Dropout probabilities typically fall in the range of 0.2 to 0.5.\n",
    "Lower values (e.g., 0.2) encourage the model to retain more information during training.\n",
    "Higher values (e.g., 0.5) increase regularization.\n",
    "\n",
    "We decided to choose 0.3"
   ],
   "metadata": {
    "collapsed": false
   }
  },
  {
   "cell_type": "code",
   "execution_count": 52,
   "outputs": [
    {
     "name": "stdout",
     "output_type": "stream",
     "text": [
      "C:\\Users\\nadav\\DataspellProjects\\Lenet5\\runs/with dropout\n",
      "at epoch 0: \n",
      "validation loss: 0.6019516542870947 \n",
      "training loss:   1.1347345179319381 \n",
      "at epoch 1: \n",
      "validation loss: 0.5075437927499731 \n",
      "training loss:   0.6067823585867882 \n",
      "at epoch 2: \n",
      "validation loss: 0.4768752316211132 \n",
      "training loss:   0.5404990443587303 \n",
      "at epoch 3: \n",
      "validation loss: 0.44885893768452584 \n",
      "training loss:   0.5038999283313751 \n",
      "at epoch 4: \n",
      "validation loss: 0.4221249178368994 \n",
      "training loss:   0.4741523936390877 \n",
      "at epoch 5: \n",
      "validation loss: 0.39931737615707075 \n",
      "training loss:   0.44834774613380435 \n",
      "at epoch 6: \n",
      "validation loss: 0.3921799063682556 \n",
      "training loss:   0.4412090027332306 \n",
      "at epoch 7: \n",
      "validation loss: 0.3810348168332526 \n",
      "training loss:   0.4281803435087204 \n",
      "at epoch 8: \n",
      "validation loss: 0.36974519554604873 \n",
      "training loss:   0.4128692027926445 \n",
      "at epoch 9: \n",
      "validation loss: 0.36575046688952345 \n",
      "training loss:   0.398839068710804 \n",
      "at epoch 10: \n",
      "validation loss: 0.3549504723954708 \n",
      "training loss:   0.3951985737681389 \n",
      "at epoch 11: \n",
      "validation loss: 0.354826346673864 \n",
      "training loss:   0.38829066962003705 \n",
      "at epoch 12: \n",
      "validation loss: 0.3534390834417749 \n",
      "training loss:   0.38131491184234617 \n",
      "at epoch 13: \n",
      "validation loss: 0.3399165523179034 \n",
      "training loss:   0.36808825671672823 \n",
      "at epoch 14: \n",
      "validation loss: 0.33573856981510813 \n",
      "training loss:   0.3680077710747719 \n",
      "at epoch 15: \n",
      "validation loss: 0.33631236692692373 \n",
      "training loss:   0.36895795449614527 \n",
      "at epoch 16: \n",
      "validation loss: 0.33091312456638255 \n",
      "training loss:   0.35776334211230276 \n",
      "at epoch 17: \n",
      "validation loss: 0.33089670158447104 \n",
      "training loss:   0.35193044498562814 \n",
      "at epoch 18: \n",
      "validation loss: 0.3244293405020491 \n",
      "training loss:   0.3550121283531189 \n",
      "at epoch 19: \n",
      "validation loss: 0.3223049390189191 \n",
      "training loss:   0.3476429179310799 \n",
      "at epoch 20: \n",
      "validation loss: 0.31790814089014174 \n",
      "training loss:   0.34398399949073794 \n",
      "at epoch 21: \n",
      "validation loss: 0.3232458795004703 \n",
      "training loss:   0.3362762022018433 \n",
      "at epoch 22: \n",
      "validation loss: 0.31639103052463935 \n",
      "training loss:   0.3394795228540897 \n",
      "at epoch 23: \n",
      "validation loss: 0.3110956438678376 \n",
      "training loss:   0.3406529034674168 \n",
      "at epoch 24: \n",
      "validation loss: 0.31041140251971305 \n",
      "training loss:   0.3244356921315193 \n",
      "at epoch 25: \n",
      "validation loss: 0.31128155487648984 \n",
      "training loss:   0.32765354558825494 \n",
      "at epoch 26: \n",
      "validation loss: 0.30416258567191184 \n",
      "training loss:   0.3269059708714485 \n",
      "at epoch 27: \n",
      "validation loss: 0.3065954824077322 \n",
      "training loss:   0.3206026495993137 \n",
      "at epoch 28: \n",
      "validation loss: 0.3131204859373417 \n",
      "training loss:   0.3203037750720978 \n",
      "at epoch 29: \n",
      "validation loss: 0.3013096657839227 \n",
      "training loss:   0.31512165993452074 \n",
      "at epoch 30: \n",
      "validation loss: 0.30212842942552365 \n",
      "training loss:   0.3147760920226574 \n",
      "at epoch 31: \n",
      "validation loss: 0.2995303146382596 \n",
      "training loss:   0.3162527732551098 \n",
      "at epoch 32: \n",
      "validation loss: 0.29780270381176727 \n",
      "training loss:   0.3113637715578079 \n",
      "at epoch 33: \n",
      "validation loss: 0.2928032136343895 \n",
      "training loss:   0.30884542256593706 \n",
      "at epoch 34: \n",
      "validation loss: 0.2962297147258799 \n",
      "training loss:   0.3046595861017704 \n",
      "at epoch 35: \n",
      "validation loss: 0.2998394062544437 \n",
      "training loss:   0.3002555200457573 \n",
      "at epoch 36: \n",
      "validation loss: 0.3004043495401423 \n",
      "training loss:   0.30468562588095666 \n",
      "at epoch 37: \n",
      "validation loss: 0.2910977652732362 \n",
      "training loss:   0.3052184897661209 \n",
      "at epoch 38: \n",
      "validation loss: 0.29230741776050406 \n",
      "training loss:   0.30412523418664933 \n",
      "at epoch 39: \n",
      "validation loss: 0.28999723208711503 \n",
      "training loss:   0.2992571295797825 \n",
      "at epoch 40: \n",
      "validation loss: 0.2915892559797206 \n",
      "training loss:   0.2904241001605988 \n",
      "at epoch 41: \n",
      "validation loss: 0.2891829844484938 \n",
      "training loss:   0.2954747723042965 \n",
      "at epoch 42: \n",
      "validation loss: 0.28478750174349926 \n",
      "training loss:   0.29275781109929083 \n",
      "at epoch 43: \n",
      "validation loss: 0.2840501333170749 \n",
      "training loss:   0.2940034021437168 \n",
      "at epoch 44: \n",
      "validation loss: 0.2857854410688928 \n",
      "training loss:   0.2931029677391052 \n",
      "at epoch 45: \n",
      "validation loss: 0.28337431873412844 \n",
      "training loss:   0.2869381460547447 \n",
      "at epoch 46: \n",
      "validation loss: 0.2846796950127216 \n",
      "training loss:   0.28764245212078093 \n",
      "at epoch 47: \n",
      "validation loss: 0.2819807919416022 \n",
      "training loss:   0.28773171961307525 \n",
      "at epoch 48: \n",
      "validation loss: 0.2865631697659797 \n",
      "training loss:   0.28132226288318635 \n",
      "at epoch 49: \n",
      "validation loss: 0.2833283118745114 \n",
      "training loss:   0.29325719103217124 \n",
      "at epoch 50: \n",
      "validation loss: 0.2796667494038318 \n",
      "training loss:   0.2864912457764149 \n",
      "at epoch 51: \n",
      "validation loss: 0.2812995476291535 \n",
      "training loss:   0.2872899599373341 \n",
      "at epoch 52: \n",
      "validation loss: 0.2793096985588682 \n",
      "training loss:   0.2837620869278908 \n",
      "at epoch 53: \n",
      "validation loss: 0.27709759359664105 \n",
      "training loss:   0.285793592184782 \n",
      "at epoch 54: \n",
      "validation loss: 0.2814209172700314 \n",
      "training loss:   0.2835712639987469 \n",
      "at epoch 55: \n",
      "validation loss: 0.284580204398074 \n",
      "training loss:   0.2793520584702492 \n",
      "at epoch 56: \n",
      "validation loss: 0.28061335137549864 \n",
      "training loss:   0.28588446483016017 \n",
      "at epoch 57: \n",
      "validation loss: 0.2757931189968231 \n",
      "training loss:   0.2759484891593456 \n",
      "at epoch 58: \n",
      "validation loss: 0.2757213537363296 \n",
      "training loss:   0.27457026347517965 \n",
      "at epoch 59: \n",
      "validation loss: 0.275096355283514 \n",
      "training loss:   0.2759740181267262 \n",
      "at epoch 60: \n",
      "validation loss: 0.27377052890493514 \n",
      "training loss:   0.27312850654125215 \n",
      "at epoch 61: \n",
      "validation loss: 0.2744210276831972 \n",
      "training loss:   0.27597453698515895 \n",
      "at epoch 62: \n",
      "validation loss: 0.2754277168436253 \n",
      "training loss:   0.27368459925055505 \n",
      "at epoch 63: \n",
      "validation loss: 0.2757343161613383 \n",
      "training loss:   0.27836673334240913 \n",
      "at epoch 64: \n",
      "validation loss: 0.2767225706830938 \n",
      "training loss:   0.2689869908988476 \n",
      "at epoch 65: \n",
      "validation loss: 0.2764690382049439 \n",
      "training loss:   0.27202647164463994 \n",
      "at epoch 66: \n",
      "validation loss: 0.273700606315694 \n",
      "training loss:   0.26868875190615654 \n",
      "at epoch 67: \n",
      "validation loss: 0.2717853068037236 \n",
      "training loss:   0.2681611010432243 \n",
      "at epoch 68: \n",
      "validation loss: 0.2715404448991126 \n",
      "training loss:   0.26798069179058076 \n",
      "at epoch 69: \n",
      "validation loss: 0.27237734135161057 \n",
      "training loss:   0.2671342781186104 \n",
      "at epoch 70: \n",
      "validation loss: 0.27799517074798014 \n",
      "training loss:   0.2615929853916168 \n",
      "at epoch 71: \n",
      "validation loss: 0.2681601817937607 \n",
      "training loss:   0.2650337415933609 \n",
      "at epoch 72: \n",
      "validation loss: 0.26818611108242196 \n",
      "training loss:   0.2616456988453865 \n",
      "at epoch 73: \n",
      "validation loss: 0.2686930263930179 \n",
      "training loss:   0.2625328294932842 \n",
      "at epoch 74: \n",
      "validation loss: 0.269216702339497 \n",
      "training loss:   0.26560258701443673 \n",
      "at epoch 75: \n",
      "validation loss: 0.26649618085394516 \n",
      "training loss:   0.26355387091636656 \n",
      "at epoch 76: \n",
      "validation loss: 0.27170977535399987 \n",
      "training loss:   0.26830395579338073 \n",
      "at epoch 77: \n",
      "validation loss: 0.2672296489806885 \n",
      "training loss:   0.25677367284893987 \n",
      "at epoch 78: \n",
      "validation loss: 0.26690965985998194 \n",
      "training loss:   0.26081700339913366 \n",
      "at epoch 79: \n",
      "validation loss: 0.2647693693003756 \n",
      "training loss:   0.26067802146077157 \n",
      "at epoch 80: \n",
      "validation loss: 0.26670401971390906 \n",
      "training loss:   0.2547509452700615 \n",
      "at epoch 81: \n",
      "validation loss: 0.2707121156631632 \n",
      "training loss:   0.25625057324767114 \n",
      "at epoch 82: \n",
      "validation loss: 0.2718107671813762 \n",
      "training loss:   0.25357298299670217 \n",
      "at epoch 83: \n",
      "validation loss: 0.27280542634903115 \n",
      "training loss:   0.2573314265906811 \n",
      "at epoch 84: \n",
      "validation loss: 0.26859860344136016 \n",
      "training loss:   0.25893737509846687 \n",
      "at epoch 85: \n",
      "validation loss: 0.2669056707874258 \n",
      "training loss:   0.25740973502397535 \n",
      "at epoch 86: \n",
      "validation loss: 0.2699464007895044 \n",
      "training loss:   0.25625155061483385 \n",
      "at epoch 87: \n",
      "validation loss: 0.26603231119348647 \n",
      "training loss:   0.2544318541884422 \n",
      "at epoch 88: \n",
      "validation loss: 0.2640117150037847 \n",
      "training loss:   0.26302554801106454 \n",
      "at epoch 89: \n",
      "validation loss: 0.26848692462799395 \n",
      "training loss:   0.2545678339898586 \n",
      "at epoch 90: \n",
      "validation loss: 0.2625503600277799 \n",
      "training loss:   0.25196232214570047 \n",
      "at epoch 91: \n",
      "validation loss: 0.26529801018694615 \n",
      "training loss:   0.2575141796469688 \n",
      "at epoch 92: \n",
      "validation loss: 0.2619936209409795 \n",
      "training loss:   0.2469372768700123 \n",
      "at epoch 93: \n",
      "validation loss: 0.26468733809095746 \n",
      "training loss:   0.2547522011399269 \n",
      "at epoch 94: \n",
      "validation loss: 0.26606292483654426 \n",
      "training loss:   0.25080820053815844 \n",
      "at epoch 95: \n",
      "validation loss: 0.26445783357670966 \n",
      "training loss:   0.25385901823639867 \n",
      "at epoch 96: \n",
      "validation loss: 0.26088617583538626 \n",
      "training loss:   0.2539154326915741 \n",
      "at epoch 97: \n",
      "validation loss: 0.2663614902090519 \n",
      "training loss:   0.24941482469439508 \n",
      "at epoch 98: \n",
      "validation loss: 0.2639992354398078 \n",
      "training loss:   0.2506310224533081 \n",
      "at epoch 99: \n",
      "validation loss: 0.26695289763998475 \n",
      "training loss:   0.2512023377418518 \n",
      "Finished Training\n"
     ]
    }
   ],
   "source": [
    "learning_rate= 1e-3\n",
    "epochs = 100\n",
    "criterion = nn.CrossEntropyLoss()\n",
    "optimizer = optim.Adam(model.parameters(), lr=learning_rate, weight_decay=0.01)\n",
    "dropout_prob = 0.3\n",
    "\n",
    "model = Lenet5(dropout_prob=dropout_prob)\n",
    "optimizer = optim.Adam(model.parameters(), lr=learning_rate)\n",
    "\n",
    "\n",
    "train(model = model,\n",
    "      val_loader=val_loader,\n",
    "      train_loader = train_loader,\n",
    "      criterion = criterion,\n",
    "      optimizer = optimizer,\n",
    "      epochs = epochs,\n",
    "      session = 'with dropout')"
   ],
   "metadata": {
    "collapsed": false,
    "ExecuteTime": {
     "start_time": "2024-06-22T22:28:10.201178Z",
     "end_time": "2024-06-22T23:11:59.806098Z"
    }
   }
  },
  {
   "cell_type": "code",
   "execution_count": null,
   "outputs": [],
   "source": [
    "# testing the model\n",
    "\n",
    "imgs, labels = next(iter(test_loader))\n",
    "outputs = model(imgs)\n",
    "_, predicted = torch.max(outputs, 1)\n",
    "\n",
    "# visualize the images\n",
    "fig, ax = plt.subplots(1, 5, figsize=(20, 5))\n",
    "for i in range(5):\n",
    "    ax[i].imshow(imgs[i].squeeze(), cmap='gray')\n",
    "    ax[i].set_title(f'predicted: {fashion_mnist_train.classes[predicted[i]]}, actual: {fashion_mnist_train.classes[labels[i]]}')\n",
    "    ax[i].axis('off')"
   ],
   "metadata": {
    "collapsed": false
   }
  },
  {
   "cell_type": "markdown",
   "source": [
    "# Evaluate your model"
   ],
   "metadata": {
    "collapsed": false
   }
  },
  {
   "cell_type": "code",
   "execution_count": 57,
   "outputs": [
    {
     "name": "stdout",
     "output_type": "stream",
     "text": [
      "Lenet5_with_batch_norm.pth\n",
      "model Lenet5_with_batch_norm.pth:\n",
      "\n",
      "accuracy: 0.8924, loss: 0.641454977169633\n",
      "Lenet5_with_dropout.pth\n",
      "model Lenet5_with_dropout.pth:\n",
      "\n",
      "accuracy: 0.9007, loss: 0.2724121680483222\n",
      "Lenet_vanilla lenet5.pth\n",
      "model Lenet_vanilla lenet5.pth:\n",
      "\n",
      "accuracy: 0.8855, loss: 0.6276513941586017\n",
      "Lenet_with batch norm.pth\n"
     ]
    },
    {
     "ename": "RuntimeError",
     "evalue": "Error(s) in loading state_dict for Lenet5:\n\tUnexpected key(s) in state_dict: \"batch_norm1.weight\", \"batch_norm1.bias\", \"batch_norm1.running_mean\", \"batch_norm1.running_var\", \"batch_norm1.num_batches_tracked\", \"batch_norm2.weight\", \"batch_norm2.bias\", \"batch_norm2.running_mean\", \"batch_norm2.running_var\", \"batch_norm2.num_batches_tracked\", \"batch_norm3.weight\", \"batch_norm3.bias\", \"batch_norm3.running_mean\", \"batch_norm3.running_var\", \"batch_norm3.num_batches_tracked\", \"batch_norm_fc1.weight\", \"batch_norm_fc1.bias\", \"batch_norm_fc1.running_mean\", \"batch_norm_fc1.running_var\", \"batch_norm_fc1.num_batches_tracked\", \"conv1.4.weight\", \"conv1.4.bias\", \"conv1.4.running_mean\", \"conv1.4.running_var\", \"conv1.4.num_batches_tracked\", \"conv2.4.weight\", \"conv2.4.bias\", \"conv2.4.running_mean\", \"conv2.4.running_var\", \"conv2.4.num_batches_tracked\", \"conv3.2.weight\", \"conv3.2.bias\", \"conv3.2.running_mean\", \"conv3.2.running_var\", \"conv3.2.num_batches_tracked\", \"fc1.2.weight\", \"fc1.2.bias\", \"fc1.2.running_mean\", \"fc1.2.running_var\", \"fc1.2.num_batches_tracked\". ",
     "output_type": "error",
     "traceback": [
      "\u001B[1;31m---------------------------------------------------------------------------\u001B[0m",
      "\u001B[1;31mRuntimeError\u001B[0m                              Traceback (most recent call last)",
      "Cell \u001B[1;32mIn[57], line 5\u001B[0m\n\u001B[0;32m      3\u001B[0m \u001B[38;5;28mprint\u001B[39m(model_path)\n\u001B[0;32m      4\u001B[0m model \u001B[38;5;241m=\u001B[39m Lenet5()\n\u001B[1;32m----> 5\u001B[0m \u001B[43mmodel\u001B[49m\u001B[38;5;241;43m.\u001B[39;49m\u001B[43mload_state_dict\u001B[49m\u001B[43m(\u001B[49m\u001B[43mtorch\u001B[49m\u001B[38;5;241;43m.\u001B[39;49m\u001B[43mload\u001B[49m\u001B[43m(\u001B[49m\u001B[38;5;124;43mf\u001B[39;49m\u001B[38;5;124;43m'\u001B[39;49m\u001B[38;5;124;43m./models/\u001B[39;49m\u001B[38;5;132;43;01m{\u001B[39;49;00m\u001B[43mmodel_path\u001B[49m\u001B[38;5;132;43;01m}\u001B[39;49;00m\u001B[38;5;124;43m'\u001B[39;49m\u001B[43m)\u001B[49m\u001B[43m)\u001B[49m\n\u001B[0;32m      6\u001B[0m model\u001B[38;5;241m.\u001B[39meval()\n\u001B[0;32m      7\u001B[0m accuracy, loss \u001B[38;5;241m=\u001B[39m evaluate(model, test_loader)\n",
      "File \u001B[1;32m~\\anaconda3\\envs\\pythonProject5\\lib\\site-packages\\torch\\nn\\modules\\module.py:2189\u001B[0m, in \u001B[0;36mModule.load_state_dict\u001B[1;34m(self, state_dict, strict, assign)\u001B[0m\n\u001B[0;32m   2184\u001B[0m         error_msgs\u001B[38;5;241m.\u001B[39minsert(\n\u001B[0;32m   2185\u001B[0m             \u001B[38;5;241m0\u001B[39m, \u001B[38;5;124m'\u001B[39m\u001B[38;5;124mMissing key(s) in state_dict: \u001B[39m\u001B[38;5;132;01m{}\u001B[39;00m\u001B[38;5;124m. \u001B[39m\u001B[38;5;124m'\u001B[39m\u001B[38;5;241m.\u001B[39mformat(\n\u001B[0;32m   2186\u001B[0m                 \u001B[38;5;124m'\u001B[39m\u001B[38;5;124m, \u001B[39m\u001B[38;5;124m'\u001B[39m\u001B[38;5;241m.\u001B[39mjoin(\u001B[38;5;124mf\u001B[39m\u001B[38;5;124m'\u001B[39m\u001B[38;5;124m\"\u001B[39m\u001B[38;5;132;01m{\u001B[39;00mk\u001B[38;5;132;01m}\u001B[39;00m\u001B[38;5;124m\"\u001B[39m\u001B[38;5;124m'\u001B[39m \u001B[38;5;28;01mfor\u001B[39;00m k \u001B[38;5;129;01min\u001B[39;00m missing_keys)))\n\u001B[0;32m   2188\u001B[0m \u001B[38;5;28;01mif\u001B[39;00m \u001B[38;5;28mlen\u001B[39m(error_msgs) \u001B[38;5;241m>\u001B[39m \u001B[38;5;241m0\u001B[39m:\n\u001B[1;32m-> 2189\u001B[0m     \u001B[38;5;28;01mraise\u001B[39;00m \u001B[38;5;167;01mRuntimeError\u001B[39;00m(\u001B[38;5;124m'\u001B[39m\u001B[38;5;124mError(s) in loading state_dict for \u001B[39m\u001B[38;5;132;01m{}\u001B[39;00m\u001B[38;5;124m:\u001B[39m\u001B[38;5;130;01m\\n\u001B[39;00m\u001B[38;5;130;01m\\t\u001B[39;00m\u001B[38;5;132;01m{}\u001B[39;00m\u001B[38;5;124m'\u001B[39m\u001B[38;5;241m.\u001B[39mformat(\n\u001B[0;32m   2190\u001B[0m                        \u001B[38;5;28mself\u001B[39m\u001B[38;5;241m.\u001B[39m\u001B[38;5;18m__class__\u001B[39m\u001B[38;5;241m.\u001B[39m\u001B[38;5;18m__name__\u001B[39m, \u001B[38;5;124m\"\u001B[39m\u001B[38;5;130;01m\\n\u001B[39;00m\u001B[38;5;130;01m\\t\u001B[39;00m\u001B[38;5;124m\"\u001B[39m\u001B[38;5;241m.\u001B[39mjoin(error_msgs)))\n\u001B[0;32m   2191\u001B[0m \u001B[38;5;28;01mreturn\u001B[39;00m _IncompatibleKeys(missing_keys, unexpected_keys)\n",
      "\u001B[1;31mRuntimeError\u001B[0m: Error(s) in loading state_dict for Lenet5:\n\tUnexpected key(s) in state_dict: \"batch_norm1.weight\", \"batch_norm1.bias\", \"batch_norm1.running_mean\", \"batch_norm1.running_var\", \"batch_norm1.num_batches_tracked\", \"batch_norm2.weight\", \"batch_norm2.bias\", \"batch_norm2.running_mean\", \"batch_norm2.running_var\", \"batch_norm2.num_batches_tracked\", \"batch_norm3.weight\", \"batch_norm3.bias\", \"batch_norm3.running_mean\", \"batch_norm3.running_var\", \"batch_norm3.num_batches_tracked\", \"batch_norm_fc1.weight\", \"batch_norm_fc1.bias\", \"batch_norm_fc1.running_mean\", \"batch_norm_fc1.running_var\", \"batch_norm_fc1.num_batches_tracked\", \"conv1.4.weight\", \"conv1.4.bias\", \"conv1.4.running_mean\", \"conv1.4.running_var\", \"conv1.4.num_batches_tracked\", \"conv2.4.weight\", \"conv2.4.bias\", \"conv2.4.running_mean\", \"conv2.4.running_var\", \"conv2.4.num_batches_tracked\", \"conv3.2.weight\", \"conv3.2.bias\", \"conv3.2.running_mean\", \"conv3.2.running_var\", \"conv3.2.num_batches_tracked\", \"fc1.2.weight\", \"fc1.2.bias\", \"fc1.2.running_mean\", \"fc1.2.running_var\", \"fc1.2.num_batches_tracked\". "
     ]
    }
   ],
   "source": [
    "#for each file in the models directory\n",
    "for model_path in os.listdir('./models'):\n",
    "    print(model_path)\n",
    "    model = Lenet5()\n",
    "    model.load_state_dict(torch.load(f'./models/{model_path}'))\n",
    "    model.eval()\n",
    "    accuracy, loss = evaluate(model, test_loader)\n",
    "    print(f'model {model_path}:\\n\\naccuracy: {accuracy}, loss: {loss}')\n",
    "\n"
   ],
   "metadata": {
    "collapsed": false,
    "ExecuteTime": {
     "start_time": "2024-06-14T17:11:45.407826Z",
     "end_time": "2024-06-14T18:10:17.611399Z"
    }
   }
  },
  {
   "cell_type": "code",
   "execution_count": null,
   "outputs": [],
   "source": [],
   "metadata": {
    "collapsed": false
   }
  }
 ],
 "metadata": {
  "kernelspec": {
   "display_name": "Python 3",
   "language": "python",
   "name": "python3"
  },
  "language_info": {
   "codemirror_mode": {
    "name": "ipython",
    "version": 2
   },
   "file_extension": ".py",
   "mimetype": "text/x-python",
   "name": "python",
   "nbconvert_exporter": "python",
   "pygments_lexer": "ipython2",
   "version": "2.7.6"
  }
 },
 "nbformat": 4,
 "nbformat_minor": 0
}
