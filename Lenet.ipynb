{
 "cells": [
  {
   "cell_type": "code",
   "execution_count": 4,
   "metadata": {
    "collapsed": true,
    "ExecuteTime": {
     "start_time": "2024-06-20T09:27:55.658843Z",
     "end_time": "2024-06-20T09:28:02.440567Z"
    }
   },
   "outputs": [
    {
     "name": "stdout",
     "output_type": "stream",
     "text": [
      "Requirement already satisfied: tensorboard in c:\\users\\nadav\\appdata\\roaming\\python\\python310\\site-packages (2.17.0)\n",
      "Requirement already satisfied: absl-py>=0.4 in c:\\users\\nadav\\appdata\\roaming\\python\\python310\\site-packages (from tensorboard) (1.4.0)\n",
      "Requirement already satisfied: grpcio>=1.48.2 in c:\\users\\nadav\\appdata\\roaming\\python\\python310\\site-packages (from tensorboard) (1.64.1)\n",
      "Requirement already satisfied: markdown>=2.6.8 in c:\\users\\nadav\\appdata\\roaming\\python\\python310\\site-packages (from tensorboard) (3.6)\n",
      "Requirement already satisfied: numpy>=1.12.0 in c:\\users\\nadav\\appdata\\roaming\\python\\python310\\site-packages (from tensorboard) (1.24.4)\n",
      "Requirement already satisfied: protobuf!=4.24.0,<5.0.0,>=3.19.6 in c:\\users\\nadav\\appdata\\roaming\\python\\python310\\site-packages (from tensorboard) (3.20.3)\n",
      "Requirement already satisfied: setuptools>=41.0.0 in c:\\users\\nadav\\anaconda3\\envs\\pythonproject5\\lib\\site-packages (from tensorboard) (68.2.2)\n",
      "Requirement already satisfied: six>1.9 in c:\\users\\nadav\\appdata\\roaming\\python\\python310\\site-packages (from tensorboard) (1.16.0)\n",
      "Requirement already satisfied: tensorboard-data-server<0.8.0,>=0.7.0 in c:\\users\\nadav\\appdata\\roaming\\python\\python310\\site-packages (from tensorboard) (0.7.2)\n",
      "Requirement already satisfied: werkzeug>=1.0.1 in c:\\users\\nadav\\appdata\\roaming\\python\\python310\\site-packages (from tensorboard) (3.0.3)\n",
      "Requirement already satisfied: MarkupSafe>=2.1.1 in c:\\users\\nadav\\appdata\\roaming\\python\\python310\\site-packages (from werkzeug>=1.0.1->tensorboard) (2.1.5)\n"
     ]
    }
   ],
   "source": [
    "#1\n",
    "\n",
    "! pip install tensorboard"
   ]
  },
  {
   "cell_type": "markdown",
   "source": [
    "# Lenet-5 for fashion mnist"
   ],
   "metadata": {
    "collapsed": false
   }
  },
  {
   "cell_type": "code",
   "execution_count": 10,
   "outputs": [],
   "source": [
    "import numpy as np\n",
    "import torch\n",
    "import torch.nn as nn\n",
    "import torch.optim as optim\n",
    "import torch.nn.functional as F\n",
    "from torch.utils.data import DataLoader\n",
    "from torchvision import datasets, transforms\n",
    "import matplotlib.pyplot as plt\n",
    "from torch.utils.tensorboard import SummaryWriter\n",
    "import os"
   ],
   "metadata": {
    "collapsed": false,
    "ExecuteTime": {
     "start_time": "2024-06-20T09:29:04.252790Z",
     "end_time": "2024-06-20T09:29:04.282483Z"
    }
   }
  },
  {
   "cell_type": "markdown",
   "source": [
    "# fasion-MNIST dataset\n",
    "\n",
    "the fasion-MNIST dataset is a dataset of Zalando's article images consisting of a training set of 60,000 examples and a test set of 10,000 examples. Each example is a 28x28 grayscale image, associated with a label from 10 classes. Zalando intends fasion-MNIST to serve as a direct drop-in replacement for the original MNIST dataset for benchmarking machine learning algorithms. It shares the same image size and structure of training and testing splits.\n",
    "\n",
    "## loading the dataset\n",
    "The dataset can be used from `torchvision.datasets` package. The dataset is downloaded from the internet and saved in the `data` directory. The dataset is loaded using the `torch.utils.data.DataLoader` class. The `DataLoader` class is used to load the data in batches. The `DataLoader` class takes the dataset and the batch size as input and provides an iterator to iterate over the dataset in batches.\n",
    "\n",
    "\n",
    "## Transforms\n",
    "### resize:\n",
    " The images in the fasion-MNIST dataset are of size 28x28. So, it makes sense to use the `transforms.Resize` to convert the images to a size that is compatible with the LeNet-5 architecture's input. The LeNet-5 architecture expects images of size 32x32 as input.\n",
    "the original size of the images in the MNIST dataset is 28x28.\n",
    "\n",
    "### ToTensor:\n",
    "The `transforms.ToTensor` converts the images to PyTorch tensors. The images in the fasion-MNIST dataset are of type `PIL.Image.Image`. The `transforms.ToTensor` converts the images to PyTorch tensors of shape `(C, H, W)` where `C` is the number of channels, `H` is the height of the image, and `W` is the width of the image. The images in the fasion-MNIST dataset are grayscale images, so the number of channels is 1. The shape of the images after applying the `transforms.ToTensor` is `(1, 32, 32)`.\n"
   ],
   "metadata": {
    "collapsed": false
   }
  },
  {
   "cell_type": "code",
   "execution_count": 11,
   "outputs": [],
   "source": [
    "fashion_mnist_train = datasets.FashionMNIST('data', train=True, download=True, transform=transforms.Compose([\n",
    "    transforms.Resize((32, 32)),\n",
    "    transforms.ToTensor()\n",
    "]))"
   ],
   "metadata": {
    "collapsed": false,
    "ExecuteTime": {
     "start_time": "2024-06-20T09:29:05.572784Z",
     "end_time": "2024-06-20T09:29:05.654226Z"
    }
   }
  },
  {
   "cell_type": "markdown",
   "source": [],
   "metadata": {
    "collapsed": false
   }
  },
  {
   "cell_type": "markdown",
   "source": [
    "## Test dataset"
   ],
   "metadata": {
    "collapsed": false
   }
  },
  {
   "cell_type": "code",
   "execution_count": 12,
   "outputs": [],
   "source": [
    "fashion_mnist_test = datasets.FashionMNIST('data', train=False, download=True, transform=transforms.Compose([\n",
    "    transforms.Resize((32, 32)),\n",
    "    transforms.ToTensor()\n",
    "]))"
   ],
   "metadata": {
    "collapsed": false,
    "ExecuteTime": {
     "start_time": "2024-06-20T09:29:07.639933Z",
     "end_time": "2024-06-20T09:29:07.670269Z"
    }
   }
  },
  {
   "cell_type": "markdown",
   "source": [
    "### split the dataset to test and validation"
   ],
   "metadata": {
    "collapsed": false
   }
  },
  {
   "cell_type": "code",
   "execution_count": 13,
   "outputs": [],
   "source": [
    "from torch.utils.data import DataLoader, Subset\n",
    "from sklearn.model_selection import train_test_split\n",
    "\n",
    "# Split fashion_mnist_train into train and val sets\n",
    "train_indices, val_indices = train_test_split(list(range(len(fashion_mnist_train))), test_size=0.2, random_state=42)\n",
    "\n",
    "train_subset = Subset(fashion_mnist_train, train_indices)\n",
    "val_subset = Subset(fashion_mnist_train, val_indices)\n",
    "\n",
    "# DataLoaders\n",
    "batch_size = 64\n",
    "\n",
    "train_loader = DataLoader(train_subset, batch_size=batch_size, shuffle=True)\n",
    "val_loader = DataLoader(val_subset, batch_size=batch_size, shuffle=False)\n",
    "test_loader = DataLoader(fashion_mnist_test, batch_size=batch_size, shuffle=False)\n"
   ],
   "metadata": {
    "collapsed": false,
    "ExecuteTime": {
     "start_time": "2024-06-20T09:29:08.818925Z",
     "end_time": "2024-06-20T09:29:08.883663Z"
    }
   }
  },
  {
   "cell_type": "markdown",
   "source": [
    "## Tensorboard\n",
    "\n",
    "tensorboard is a visualization tool that can be used to visualize the training process of a deep learning model. The `torch.utils.tensorboard.SummaryWriter` class is used to write the logs to the tensorboard. The `SummaryWriter` class takes the log directory as input. The logs are written to the log directory in the form of event files. The event files can be visualized using the tensorboard web interface.\n",
    "\n"
   ],
   "metadata": {
    "collapsed": false
   }
  },
  {
   "cell_type": "code",
   "execution_count": 14,
   "outputs": [
    {
     "name": "stderr",
     "output_type": "stream",
     "text": [
      "UsageError: Line magic function `%tensorboard` not found.\n"
     ]
    }
   ],
   "source": [
    "#%tensorboard --logdir runs\n",
    "log_dir = os.path.join(os.getcwd(), \"runs\")\n",
    "os.makedirs(log_dir, exist_ok=True)\n"
   ],
   "metadata": {
    "collapsed": false,
    "ExecuteTime": {
     "start_time": "2024-06-04T10:27:46.888530Z",
     "end_time": "2024-06-04T10:27:46.975621Z"
    }
   }
  },
  {
   "cell_type": "markdown",
   "source": [
    "## Visualize the dataset\n",
    "let's draw 5 random images from the dataset and visualize them. The images are grayscale images of size 32x32. The images are converted to PyTorch tensors of shape `(1, 32, 32)` using the `transforms.ToTensor` transform. The images are then visualized using the `matplotlib.pyplot.imshow` function. we can also decode the labels to see how the images are labeled."
   ],
   "metadata": {
    "collapsed": false
   }
  },
  {
   "cell_type": "code",
   "execution_count": 15,
   "outputs": [
    {
     "data": {
      "text/plain": "<Figure size 2000x500 with 5 Axes>",
      "image/png": "[encoded data removed]"
     },
     "metadata": {},
     "output_type": "display_data"
    }
   ],
   "source": [
    "# get 5 images\n",
    "imgs = [0]*5\n",
    "labels = [0]*5\n",
    "for idx, i in enumerate(np.random.randint(0, len(fashion_mnist_train), 5)):\n",
    "    imgs[idx], labels[idx] = fashion_mnist_train[i]\n",
    "\n",
    "#visualize the 5 image\n",
    "fig, ax = plt.subplots(1, 5, figsize=(20, 5))\n",
    "for i in range(5):\n",
    "    ax[i].imshow(imgs[i].permute(1, 2, 0), cmap='gray')\n",
    "    ax[i].set_title(fashion_mnist_train.classes[labels[i]])\n",
    "    ax[i].axis('off')\n",
    "    #decode the label\n",
    "    label = fashion_mnist_train.classes[labels[i]]\n"
   ],
   "metadata": {
    "collapsed": false,
    "ExecuteTime": {
     "start_time": "2024-06-20T09:29:11.488127Z",
     "end_time": "2024-06-20T09:29:12.325305Z"
    }
   }
  },
  {
   "cell_type": "markdown",
   "source": [
    "markdown bold text -"
   ],
   "metadata": {
    "collapsed": false
   }
  },
  {
   "cell_type": "markdown",
   "source": [
    "# LeNet-5 Architecture\n",
    "The LeNet-5 architecture is a convolutional neural network architecture proposed by Yann LeCun in 1998. The LeNet-5 architecture consists of 7 layers. The architecture of the LeNet-5 is as follows:\n",
    "\n",
    "#### **input layer:**\n",
    "The input to the LeNet-5 architecture is a grayscale image of size 32x32.\n",
    "\n",
    "#### Convolution & Average Pooling Layers:\n",
    "next, the input image is passed through a convolutional layer followed by an average pooling layer.\n",
    "The convolutional layer has 6 filters of size 5x5.\n",
    "- **kernel size:** 5x5\n",
    "-  **channels:** $1 \\rightarrow 6$\n",
    "- **stride:** 1\n",
    "The average pooling layer has a filter of size 2x2.\n",
    "- **kernel size:** 2x2\n",
    "- **stride:** 2\n",
    "\n",
    "#### 2nd Convolution & Average Pooling Layers:\n",
    "The output from the first average pooling layer is passed through another convolutional layer followed by another average pooling layer.\n",
    "The convolutional layer has 16 filters of size 5x5.\n",
    "- **kernel size:** 5x5\n",
    "- **channels:** $6 \\rightarrow 16$\n",
    "- **stride:** 1\n",
    "average pooling layer has a filter of size 2x2.\n",
    "- **kernel size:** 2x2\n",
    "- **stride:** 2\n",
    "\n",
    "#### convolutional layer:\n",
    "The output from the second average pooling layer is passed through another convolutional layer.\n",
    "- **kernel size:** 5x5\n",
    "- **output channels:** 120\n",
    "- **stride:** 1\n",
    "\n",
    "#### Fully Connected Layers:\n",
    "The output from the last convolutional layer is flattened and passed through 3 fully connected layers:\n",
    "- **1st fully connected layer:** $120 \\rightarrow 84$\n",
    "- **2nd fully connected layer:** $84 \\rightarrow 10$\n",
    "#### Output Layer:\n",
    "The output from the last fully connected layer is passed through a softmax activation function to get the best of 10 class probabilities.\n",
    "\n"
   ],
   "metadata": {
    "collapsed": false
   }
  },
  {
   "cell_type": "code",
   "execution_count": 15,
   "outputs": [],
   "source": [],
   "metadata": {
    "collapsed": false,
    "ExecuteTime": {
     "start_time": "2024-06-20T09:29:13.918291Z",
     "end_time": "2024-06-20T09:29:13.975691Z"
    }
   }
  },
  {
   "cell_type": "code",
   "execution_count": 16,
   "outputs": [],
   "source": [
    "class Lenet5(nn.Module):\n",
    "    def __init__(self, dropout_prob=0, batch_norm=False):\n",
    "        super(Lenet5, self).__init__()\n",
    "        self.batch_norm1 = nn.BatchNorm2d(6) if batch_norm else nn.Identity()\n",
    "        self.batch_norm2 = nn.BatchNorm2d(16) if batch_norm else nn.Identity()\n",
    "        self.batch_norm3 = nn.BatchNorm2d(120) if batch_norm else nn.Identity()\n",
    "        self.batch_norm_fc1 = nn.BatchNorm1d(84) if batch_norm else nn.Identity()\n",
    "        self.dropout_prob = dropout_prob\n",
    "        self.conv1 = nn.Sequential(\n",
    "            nn.Conv2d(1, 6, kernel_size=5, stride=1),\n",
    "            nn.Tanh(),\n",
    "            nn.AvgPool2d(kernel_size=2, stride=2),\n",
    "            nn.Tanh(),\n",
    "            self.batch_norm1,\n",
    "        )\n",
    "        self.conv2 = nn.Sequential(\n",
    "            nn.Conv2d(6, 16, kernel_size=5, stride=1),\n",
    "            nn.Tanh(),\n",
    "            nn.AvgPool2d(kernel_size=2, stride=2),\n",
    "            nn.Tanh(),\n",
    "            self.batch_norm2,\n",
    "        )\n",
    "        self.conv3 = nn.Sequential(\n",
    "            nn.Conv2d(16, 120, kernel_size=5, stride=1),\n",
    "            nn.Tanh(),\n",
    "            self.batch_norm3,\n",
    "        )\n",
    "\n",
    "        # fully connected layers\n",
    "        self.fc1 = nn.Sequential(\n",
    "            nn.Linear(120, 84),\n",
    "            nn.Tanh(),\n",
    "            self.batch_norm_fc1,)\n",
    "\n",
    "        self.fc2 = nn.Linear(84, 10)\n",
    "        self.softmax = nn.Softmax(dim=1)\n",
    "        self.dropout = nn.Dropout(self.dropout_prob)\n",
    "\n",
    "    def forward(self, x):\n",
    "        x = self.conv1(x)\n",
    "        x = self.conv2(x)\n",
    "        self.dropout\n",
    "        x = self.conv3(x)\n",
    "        self.dropout\n",
    "        x = x.view(x.size(0), -1)\n",
    "        x = self.fc1(x)\n",
    "        x = self.fc2(x)\n",
    "        #x = self.softmax(x)\n",
    "        return x\n"
   ],
   "metadata": {
    "collapsed": false,
    "ExecuteTime": {
     "start_time": "2024-06-20T09:29:14.480884Z",
     "end_time": "2024-06-20T09:29:14.534500Z"
    }
   }
  },
  {
   "cell_type": "markdown",
   "source": [
    "let's initialize the model and print the model summary.then let's try it on a single batch of images to see if the model is working correctly."
   ],
   "metadata": {
    "collapsed": false
   }
  },
  {
   "cell_type": "markdown",
   "source": [],
   "metadata": {
    "collapsed": false
   }
  },
  {
   "cell_type": "code",
   "execution_count": 17,
   "outputs": [
    {
     "name": "stdout",
     "output_type": "stream",
     "text": [
      "Lenet5(\n",
      "  (batch_norm1): Identity()\n",
      "  (batch_norm2): Identity()\n",
      "  (batch_norm3): Identity()\n",
      "  (batch_norm_fc1): Identity()\n",
      "  (conv1): Sequential(\n",
      "    (0): Conv2d(1, 6, kernel_size=(5, 5), stride=(1, 1))\n",
      "    (1): Tanh()\n",
      "    (2): AvgPool2d(kernel_size=2, stride=2, padding=0)\n",
      "    (3): Tanh()\n",
      "    (4): Identity()\n",
      "  )\n",
      "  (conv2): Sequential(\n",
      "    (0): Conv2d(6, 16, kernel_size=(5, 5), stride=(1, 1))\n",
      "    (1): Tanh()\n",
      "    (2): AvgPool2d(kernel_size=2, stride=2, padding=0)\n",
      "    (3): Tanh()\n",
      "    (4): Identity()\n",
      "  )\n",
      "  (conv3): Sequential(\n",
      "    (0): Conv2d(16, 120, kernel_size=(5, 5), stride=(1, 1))\n",
      "    (1): Tanh()\n",
      "    (2): Identity()\n",
      "  )\n",
      "  (fc1): Sequential(\n",
      "    (0): Linear(in_features=120, out_features=84, bias=True)\n",
      "    (1): Tanh()\n",
      "    (2): Identity()\n",
      "  )\n",
      "  (fc2): Linear(in_features=84, out_features=10, bias=True)\n",
      "  (softmax): Softmax(dim=1)\n",
      ")\n",
      "tensor([[-0.0292,  0.0873, -0.0046, -0.0910, -0.0258, -0.0462, -0.1092, -0.0230,\n",
      "          0.1359, -0.1107]], grad_fn=<AddmmBackward0>)\n"
     ]
    }
   ],
   "source": [
    "model = Lenet5()\n",
    "print(model)\n",
    "\n",
    "pred = model(fashion_mnist_train[0][0].unsqueeze(0))\n",
    "print (pred)"
   ],
   "metadata": {
    "collapsed": false,
    "ExecuteTime": {
     "start_time": "2024-06-20T09:29:16.245539Z",
     "end_time": "2024-06-20T09:29:16.402451Z"
    }
   }
  },
  {
   "cell_type": "markdown",
   "source": [
    "## visualizing the model"
   ],
   "metadata": {
    "collapsed": false
   }
  },
  {
   "cell_type": "code",
   "execution_count": 18,
   "outputs": [],
   "source": [
    "tb_writer = SummaryWriter('runs/lenet5')\n",
    "\n",
    "# visualize the model in our tensorboard summary\n",
    "tb_writer.add_graph(model, fashion_mnist_train[0][0].unsqueeze(0))\n",
    "tb_writer.flush()\n",
    "\n"
   ],
   "metadata": {
    "collapsed": false,
    "ExecuteTime": {
     "start_time": "2024-06-20T09:29:17.830925Z",
     "end_time": "2024-06-20T09:29:18.705276Z"
    }
   }
  },
  {
   "cell_type": "code",
   "execution_count": 18,
   "outputs": [],
   "source": [],
   "metadata": {
    "collapsed": false,
    "ExecuteTime": {
     "start_time": "2024-06-20T09:29:18.711304Z",
     "end_time": "2024-06-20T09:29:18.727282Z"
    }
   }
  },
  {
   "cell_type": "markdown",
   "source": [],
   "metadata": {
    "collapsed": false
   }
  },
  {
   "cell_type": "markdown",
   "source": [
    "# Training the model"
   ],
   "metadata": {
    "collapsed": false
   }
  },
  {
   "cell_type": "code",
   "execution_count": null,
   "outputs": [],
   "source": [
    "# hyperparameters\n",
    "batch_size = 256\n",
    "dropout_prob = 0.3\n",
    "weight_decay = 0.0001\n",
    "batch_norm = False\n",
    "learning_rate= 1e-3\n",
    "epochs = 100\n",
    "criterion = nn.CrossEntropyLoss()\n",
    "\n",
    "\n",
    "# training the model\n",
    "train_loader = DataLoader(train_subset, batch_size=batch_size, shuffle=True)\n",
    "val_loader = DataLoader(val_subset, batch_size=batch_size, shuffle=False)\n",
    "test_loader = DataLoader(fashion_mnist_test, batch_size=batch_size, shuffle=False)\n",
    "val_loader = DataLoader(fashion_mnist_train, batch_size=batch_size, shuffle=False)\n",
    "criterion = nn.CrossEntropyLoss()\n",
    "optimizer = optim.Adam(model.parameters(), lr=learning_rate, weight_decay=weight_decay)"
   ],
   "metadata": {
    "collapsed": false
   }
  },
  {
   "cell_type": "code",
   "execution_count": null,
   "outputs": [],
   "source": [],
   "metadata": {
    "collapsed": false
   }
  },
  {
   "cell_type": "markdown",
   "source": [
    "# training loop"
   ],
   "metadata": {
    "collapsed": false
   }
  },
  {
   "cell_type": "code",
   "execution_count": null,
   "outputs": [],
   "source": [
    "def evaluate(model, val_loader):\n",
    "    \"\"\"\n",
    "    evaluate the model on the validation set\n",
    "    :param model: model to evaluate\n",
    "    :param val_loader: validation dataset loader\n",
    "    :return: (accuracy, loss)\n",
    "    \"\"\"\n",
    "    model.eval()\n",
    "    running_loss = 0.0\n",
    "    running_acc = 0\n",
    "    total = 0\n",
    "    with torch.no_grad():\n",
    "        for i, data in enumerate(val_loader, 0):\n",
    "            inputs, labels = data\n",
    "            outputs = model(inputs)\n",
    "            loss = criterion(outputs, labels)\n",
    "            running_loss += loss.item()\n",
    "            _, predicted = torch.max(outputs, 1)\n",
    "            running_acc += (predicted == labels).sum().item()\n",
    "            total += labels.size(0)\n",
    "        accuracy = running_acc / total\n",
    "        loss = running_loss/ len(val_loader)\n",
    "    return accuracy, loss"
   ],
   "metadata": {
    "collapsed": false
   }
  },
  {
   "cell_type": "code",
   "execution_count": null,
   "outputs": [],
   "source": [
    "\n",
    "\n",
    "\n",
    "from datetime import datetime\n",
    "\n",
    "\n",
    "def train(model = Lenet5,\n",
    "          train_loader=train_loader,\n",
    "          val_loader=val_loader,\n",
    "          criterion = criterion,\n",
    "          optimizer = optimizer,\n",
    "          epochs=epochs,\n",
    "          session = None,\n",
    "          batch_norm = False,\n",
    "          dropout = 0.2,\n",
    "          ):\n",
    "\n",
    "    # track with tensorboard\n",
    "    session = session or 'Lenet5'+datetime.now().strftime('%m-%d-%H-%M')\n",
    "    #tb_writer = SummaryWriter(f'runs/{session}')\n",
    "    run_dir = f'{log_dir}/{session}'\n",
    "    print(run_dir)\n",
    "    tb_writer = SummaryWriter(run_dir)\n",
    "    tb_writer.flush()\n",
    "\n",
    "    model.train()\n",
    "    for epoch in range(epochs):\n",
    "        running_loss = 0.0\n",
    "        running_corrects = 0\n",
    "        train_total = 0\n",
    "        val_loss_min = 0\n",
    "        # set the model to train mode\n",
    "        model.train(True)\n",
    "\n",
    "        for i, data in enumerate(train_loader, 0):\n",
    "\n",
    "            # get the input image and labels\n",
    "            inputs, labels = data\n",
    "\n",
    "            # start with zero gradients\n",
    "            optimizer.zero_grad()\n",
    "            # forward pass\n",
    "            outputs = model(inputs)\n",
    "            # calculate the loss\n",
    "            loss = criterion(outputs, labels)\n",
    "            loss.backward()\n",
    "            # update the weights\n",
    "            optimizer.step()\n",
    "            running_loss += loss.item()\n",
    "            _, preds = torch.max(outputs, 1)\n",
    "\n",
    "            running_corrects += (preds == labels).sum().item()\n",
    "            train_total += labels.size(0)\n",
    "\n",
    "            if i % 100 == 99:\n",
    "                # print gradient statistics\n",
    "                for name, param in model.named_parameters():\n",
    "                    tb_writer.add_histogram(name, param.grad, epoch * len(train_loader) +  i)\n",
    "                # loss of current batch\n",
    "                avg_train_loss = running_loss / 100\n",
    "                tb_writer.add_scalar('training loss', avg_train_loss, epoch * len(train_loader) +  i)\n",
    "\n",
    "                #print(f'[{epoch + 1}, {i + 1}] loss: {avg_train_loss}')\n",
    "                running_loss = 0.0\n",
    "        \"\"\"-----------------\n",
    "        per epoch evaluation\n",
    "        -----------------\"\"\"\n",
    "        # set the model to evaluation mode\n",
    "        model.eval()\n",
    "\n",
    "        #accuracy\n",
    "        train_accuracy = running_corrects / train_total\n",
    "        # validation\n",
    "        val_acc, val_loss = evaluate(model, val_loader)\n",
    "\n",
    "        #val_accuracy = (val_preds == val_labels).sum().item() / len(val_loader)\n",
    "        tb_writer.add_scalars('train vs val loss', {'train': avg_train_loss, 'val': val_loss}, epoch)\n",
    "        tb_writer.add_scalars('train vs val accuracy', {'train': train_accuracy, 'val': val_acc}, epoch)\n",
    "        print(f'at epoch {epoch}: \\nvalidation loss: {val_loss} \\ntraining loss:   {avg_train_loss} ')\n",
    "        tb_writer.add_scalar('validation loss', val_loss, epoch)\n",
    "        if val_loss <= val_loss_min:\n",
    "            print('validation loss decreased({:.6f} -->{:.6f}). Saving Model ...'.format(valid_loss_min, valid_loss))\n",
    "            torch.save(model.state_dict(), f'./models/Lenet_{session}.pth')\n",
    "            valid_loss_min = valid_loss\n",
    "    print('Finished Training')"
   ],
   "metadata": {
    "collapsed": false
   }
  },
  {
   "cell_type": "markdown",
   "source": [
    "# training the model without dropout, batch normalization or weight decay"
   ],
   "metadata": {
    "collapsed": false
   }
  },
  {
   "cell_type": "code",
   "execution_count": null,
   "outputs": [],
   "source": [
    "learning_rate= 1e-3\n",
    "epochs = 100\n",
    "criterion = nn.CrossEntropyLoss()\n",
    "model = Lenet5(dropout=0, batch_norm=False)\n",
    "optimizer = optim.Adam(model.parameters(), lr=learning_rate)\n",
    "\n",
    "\n",
    "\n",
    "train(model = model,\n",
    "      train_loader = train_loader,\n",
    "      criterion = criterion,\n",
    "      optimizer = optimizer,\n",
    "      epochs = epochs,\n",
    "      session='vanilla lenet5')"
   ],
   "metadata": {
    "collapsed": false
   }
  },
  {
   "cell_type": "markdown",
   "source": [
    "# training the model with batch normalization\n"
   ],
   "metadata": {
    "collapsed": false
   }
  },
  {
   "cell_type": "code",
   "execution_count": null,
   "outputs": [],
   "source": [
    "learning_rate= 1e-3\n",
    "epochs = 100\n",
    "criterion = nn.CrossEntropyLoss()\n",
    "model = Lenet5(dropout=0, batch_norm=True)\n",
    "optimizer = optim.Adam(model.parameters(), lr=learning_rate)\n",
    "\n",
    "\n",
    "train(model = model,\n",
    "      train_loader = train_loader,\n",
    "      criterion = criterion,\n",
    "      optimizer = optimizer,\n",
    "      epochs = epochs,\n",
    "      session = 'with batch norm')"
   ],
   "metadata": {
    "collapsed": false
   }
  },
  {
   "cell_type": "markdown",
   "source": [
    "# training the model with weight decay"
   ],
   "metadata": {
    "collapsed": false
   }
  },
  {
   "cell_type": "code",
   "execution_count": null,
   "outputs": [],
   "source": [
    "learning_rate= 1e-3\n",
    "epochs = 100\n",
    "criterion = nn.CrossEntropyLoss()\n",
    "model = Lenet5(dropout=0, batch_norm=False)\n",
    "optimizer = optim.Adam(model.parameters(), lr=learning_rate, weight_decay=0.0001)\n",
    "\n",
    "\n",
    "train(model = model,\n",
    "      train_loader = train_loader,\n",
    "      criterion = criterion,\n",
    "      optimizer = optimizer,\n",
    "      epochs = epochs,\n",
    "      session = 'with weight decay')\n",
    "\n"
   ],
   "metadata": {
    "collapsed": false
   }
  },
  {
   "cell_type": "code",
   "execution_count": null,
   "outputs": [],
   "source": [
    "learning_rate= 1e-3\n",
    "epochs = 100\n",
    "criterion = nn.CrossEntropyLoss()\n",
    "model = Lenet5(dropout=False, batch_norm=False)\n",
    "optimizer = optim.Adam(model.parameters(), lr=learning_rate, weight_decay=0.001)\n",
    "\n",
    "\n",
    "train(model = model,\n",
    "      train_loader = train_loader,\n",
    "      criterion = criterion,\n",
    "      optimizer = optimizer,\n",
    "      epochs = epochs,\n",
    "      session = 'with weight decay e-3')\n"
   ],
   "metadata": {
    "collapsed": false
   }
  },
  {
   "cell_type": "code",
   "execution_count": null,
   "outputs": [],
   "source": [
    "learning_rate= 1e-3\n",
    "epochs = 100\n",
    "criterion = nn.CrossEntropyLoss()\n",
    "model = Lenet5(dropout=False, batch_norm=False)\n",
    "optimizer = optim.Adam(model.parameters(), lr=learning_rate, weight_decay=0.01)\n",
    "\n",
    "model = Lenet5(dropout_prob=dropout_prob, batch_norm=False)\n",
    "optimizer = optim.Adam(model.parameters(), lr=learning_rate)\n",
    "\n",
    "\n",
    "train(model = model,\n",
    "      train_loader = train_loader,\n",
    "      criterion = criterion,\n",
    "      optimizer = optimizer,\n",
    "      epochs = epochs,\n",
    "      session = 'with_dropout_final')\n",
    "\n",
    "train(model = model,\n",
    "      train_loader = train_loader,\n",
    "      criterion = criterion,\n",
    "      optimizer = optimizer,\n",
    "      epochs = epochs,\n",
    "      session = 'with weight decay e-2')"
   ],
   "metadata": {
    "collapsed": false
   }
  },
  {
   "cell_type": "code",
   "execution_count": null,
   "outputs": [],
   "source": [
    "# testing the model\n",
    "\n",
    "imgs, labels = next(iter(test_loader))\n",
    "outputs = model(imgs)\n",
    "_, predicted = torch.max(outputs, 1)\n",
    "\n",
    "# visualize the images\n",
    "fig, ax = plt.subplots(1, 5, figsize=(20, 5))\n",
    "for i in range(5):\n",
    "    ax[i].imshow(imgs[i].squeeze(), cmap='gray')\n",
    "    ax[i].set_title(f'predicted: {fashion_mnist_train.classes[predicted[i]]}, actual: {fashion_mnist_train.classes[labels[i]]}')\n",
    "    ax[i].axis('off')"
   ],
   "metadata": {
    "collapsed": false,
    "ExecuteTime": {
     "start_time": "2024-06-04T16:33:57.943426Z",
     "end_time": "2024-06-04T16:33:59.054843Z"
    }
   }
  },
  {
   "cell_type": "markdown",
   "source": [
    "# Hyperparameters\n",
    "Let's investigate the results for different hyperparameters choices!\n",
    "tensorboard allows us to compare the results of different hyperparameters choices. We can compare the results of different hyperparameters choices using the tensorboard web interface. We can compare the training and validation loss for different hyperparameters choices using the tensorboard web interface."
   ],
   "metadata": {
    "collapsed": false,
    "ExecuteTime": {
     "start_time": "2024-06-14T15:53:37.528008Z",
     "end_time": "2024-06-14T16:54:34.345999Z"
    }
   },
   "outputs": [
    {
     "name": "stdout",
     "output_type": "stream",
     "text": [
      "at epoch 0: \n",
      "validation loss: 0.5307154884997834 \n",
      "training loss:   0.6148699876666069 \n",
      "at epoch 1: \n",
      "validation loss: 0.4335015633004777 \n",
      "training loss:   0.4607134783267975 \n",
      "at epoch 2: \n",
      "validation loss: 0.39095972751049285 \n",
      "training loss:   0.4105721041560173 \n",
      "at epoch 3: \n",
      "validation loss: 0.3573750398260482 \n",
      "training loss:   0.3753638246655464 \n",
      "at epoch 4: \n",
      "validation loss: 0.33954025589405223 \n",
      "training loss:   0.35007245719432833 \n",
      "at epoch 5: \n",
      "validation loss: 0.32780857872455677 \n",
      "training loss:   0.3397933001816273 \n",
      "at epoch 6: \n",
      "validation loss: 0.30835452510955486 \n",
      "training loss:   0.3253174513578415 \n",
      "at epoch 7: \n",
      "validation loss: 0.30132240805220095 \n",
      "training loss:   0.30495582684874534 \n",
      "at epoch 8: \n",
      "validation loss: 0.2834110095145855 \n",
      "training loss:   0.2946569123864174 \n",
      "at epoch 9: \n",
      "validation loss: 0.2727524330641361 \n",
      "training loss:   0.28351940512657164 \n",
      "at epoch 10: \n",
      "validation loss: 0.26785489701210186 \n",
      "training loss:   0.28275483414530755 \n",
      "at epoch 11: \n",
      "validation loss: 0.26287984036384743 \n",
      "training loss:   0.27002080127596856 \n",
      "at epoch 12: \n",
      "validation loss: 0.2620334173136569 \n",
      "training loss:   0.26697292119264604 \n",
      "at epoch 13: \n",
      "validation loss: 0.23734475076198577 \n",
      "training loss:   0.25317032799124717 \n",
      "at epoch 14: \n",
      "validation loss: 0.2344245750853356 \n",
      "training loss:   0.25606485396623613 \n",
      "at epoch 15: \n",
      "validation loss: 0.2314214825630188 \n",
      "training loss:   0.24250270456075668 \n",
      "at epoch 16: \n",
      "validation loss: 0.22250648305771198 \n",
      "training loss:   0.23544515371322633 \n",
      "at epoch 17: \n",
      "validation loss: 0.21320325079116415 \n",
      "training loss:   0.22400226354598998 \n",
      "at epoch 18: \n",
      "validation loss: 0.21567187537538243 \n",
      "training loss:   0.22459886997938155 \n",
      "at epoch 19: \n",
      "validation loss: 0.21138717341930308 \n",
      "training loss:   0.2216475123167038 \n",
      "at epoch 20: \n",
      "validation loss: 0.19797635481078574 \n",
      "training loss:   0.2092098418623209 \n",
      "at epoch 21: \n",
      "validation loss: 0.20505353126754153 \n",
      "training loss:   0.20980222642421723 \n",
      "at epoch 22: \n",
      "validation loss: 0.18907378135209388 \n",
      "training loss:   0.20414112985134125 \n",
      "at epoch 23: \n",
      "validation loss: 0.19347266174377278 \n",
      "training loss:   0.19447669491171837 \n",
      "at epoch 24: \n",
      "validation loss: 0.18580894260964495 \n",
      "training loss:   0.19123985022306442 \n",
      "at epoch 25: \n",
      "validation loss: 0.17736115924855497 \n",
      "training loss:   0.1925285892188549 \n",
      "at epoch 26: \n",
      "validation loss: 0.17026991812472647 \n",
      "training loss:   0.18115317970514297 \n",
      "at epoch 27: \n",
      "validation loss: 0.1645930049584267 \n",
      "training loss:   0.18388681426644327 \n",
      "at epoch 28: \n",
      "validation loss: 0.16727721802097686 \n",
      "training loss:   0.18283364675939084 \n",
      "at epoch 29: \n",
      "validation loss: 0.1625189278671082 \n",
      "training loss:   0.17231537625193596 \n",
      "at epoch 30: \n",
      "validation loss: 0.16392213141030454 \n",
      "training loss:   0.16954190477728845 \n",
      "at epoch 31: \n",
      "validation loss: 0.15392242460808855 \n",
      "training loss:   0.1653214491903782 \n",
      "at epoch 32: \n",
      "validation loss: 0.14540298004099664 \n",
      "training loss:   0.1587555903196335 \n",
      "at epoch 33: \n",
      "validation loss: 0.14408634289148006 \n",
      "training loss:   0.15821569100022315 \n",
      "at epoch 34: \n",
      "validation loss: 0.14063778973006189 \n",
      "training loss:   0.15111034862697126 \n",
      "at epoch 35: \n",
      "validation loss: 0.1399339460629098 \n",
      "training loss:   0.1506167057901621 \n",
      "at epoch 36: \n",
      "validation loss: 0.13904670432527014 \n",
      "training loss:   0.14598884321749211 \n",
      "at epoch 37: \n",
      "validation loss: 0.13103975577557342 \n",
      "training loss:   0.14409718506038188 \n",
      "at epoch 38: \n",
      "validation loss: 0.127764750240331 \n",
      "training loss:   0.14161947265267372 \n",
      "at epoch 39: \n",
      "validation loss: 0.12320306120400733 \n",
      "training loss:   0.13933112077414989 \n",
      "at epoch 40: \n",
      "validation loss: 0.11477153640478216 \n",
      "training loss:   0.1312629996985197 \n",
      "at epoch 41: \n",
      "validation loss: 0.12069052172468063 \n",
      "training loss:   0.13121033743023872 \n",
      "at epoch 42: \n",
      "validation loss: 0.10894127645074053 \n",
      "training loss:   0.12166441585868597 \n",
      "at epoch 43: \n",
      "validation loss: 0.10666465523078086 \n",
      "training loss:   0.12362007521092892 \n",
      "at epoch 44: \n",
      "validation loss: 0.1073124240053461 \n",
      "training loss:   0.11724893137812614 \n",
      "at epoch 45: \n",
      "validation loss: 0.10650752738435218 \n",
      "training loss:   0.11482042349874973 \n",
      "at epoch 46: \n",
      "validation loss: 0.10109292422520354 \n",
      "training loss:   0.11529484786093235 \n",
      "at epoch 47: \n",
      "validation loss: 0.09444307077755319 \n",
      "training loss:   0.10715564712882042 \n",
      "at epoch 48: \n",
      "validation loss: 0.08782903025759027 \n",
      "training loss:   0.10911728125065565 \n",
      "at epoch 49: \n",
      "validation loss: 0.09512290138196437 \n",
      "training loss:   0.10048026226460934 \n",
      "at epoch 50: \n",
      "validation loss: 0.08260946497321128 \n",
      "training loss:   0.09863003335893154 \n",
      "at epoch 51: \n",
      "validation loss: 0.09110237667535213 \n",
      "training loss:   0.09556831426918506 \n",
      "at epoch 52: \n",
      "validation loss: 0.0795929620716166 \n",
      "training loss:   0.09454374309629202 \n",
      "at epoch 53: \n",
      "validation loss: 0.08514975499599538 \n",
      "training loss:   0.09575258772820235 \n",
      "at epoch 54: \n",
      "validation loss: 0.07584901854712912 \n",
      "training loss:   0.0938586163520813 \n",
      "at epoch 55: \n",
      "validation loss: 0.07702612860247175 \n",
      "training loss:   0.0872768909111619 \n",
      "at epoch 56: \n",
      "validation loss: 0.06862043401503816 \n",
      "training loss:   0.08176924049854278 \n",
      "at epoch 57: \n",
      "validation loss: 0.07267821687174604 \n",
      "training loss:   0.0800164271518588 \n",
      "at epoch 58: \n",
      "validation loss: 0.06796462700722065 \n",
      "training loss:   0.0783467698097229 \n",
      "at epoch 59: \n",
      "validation loss: 0.06209752493874824 \n",
      "training loss:   0.07927071161568165 \n",
      "at epoch 60: \n",
      "validation loss: 0.06393835083284277 \n",
      "training loss:   0.0740985906496644 \n",
      "at epoch 61: \n",
      "validation loss: 0.062091037789557844 \n",
      "training loss:   0.06892869776114821 \n",
      "at epoch 62: \n",
      "validation loss: 0.06584379076165088 \n",
      "training loss:   0.06998629659414292 \n",
      "at epoch 63: \n",
      "validation loss: 0.05662217808372163 \n",
      "training loss:   0.0662178522720933 \n",
      "at epoch 64: \n",
      "validation loss: 0.0611040111472632 \n",
      "training loss:   0.06391597121953964 \n",
      "at epoch 65: \n",
      "validation loss: 0.05386966269542562 \n",
      "training loss:   0.059766737315803765 \n",
      "at epoch 66: \n",
      "validation loss: 0.06024876795709133 \n",
      "training loss:   0.06180283311754465 \n",
      "at epoch 67: \n",
      "validation loss: 0.046403024060294985 \n",
      "training loss:   0.0558063805103302 \n",
      "at epoch 68: \n",
      "validation loss: 0.04929253740355055 \n",
      "training loss:   0.05364578073844314 \n",
      "at epoch 69: \n",
      "validation loss: 0.04862283301797319 \n",
      "training loss:   0.05460125332698226 \n",
      "at epoch 70: \n",
      "validation loss: 0.04833315572840102 \n",
      "training loss:   0.056911960728466514 \n",
      "at epoch 71: \n",
      "validation loss: 0.045015398412942886 \n",
      "training loss:   0.055022517051547766 \n",
      "at epoch 72: \n",
      "validation loss: 0.04367667426295737 \n",
      "training loss:   0.0459186790138483 \n",
      "at epoch 73: \n",
      "validation loss: 0.04743394838210116 \n",
      "training loss:   0.049867613893002274 \n",
      "at epoch 74: \n",
      "validation loss: 0.04267334479521564 \n",
      "training loss:   0.04673371292650699 \n",
      "at epoch 75: \n",
      "validation loss: 0.03743459161450254 \n",
      "training loss:   0.04501605603843927 \n",
      "at epoch 76: \n",
      "validation loss: 0.03461152120552798 \n",
      "training loss:   0.042668465254828335 \n",
      "at epoch 77: \n",
      "validation loss: 0.03212693035602569 \n",
      "training loss:   0.04168108764104545 \n",
      "at epoch 78: \n",
      "validation loss: 0.0360853790365001 \n",
      "training loss:   0.03877175150439143 \n",
      "at epoch 79: \n",
      "validation loss: 0.030246645402401053 \n",
      "training loss:   0.04155449691228569 \n",
      "at epoch 80: \n",
      "validation loss: 0.03128809494541047 \n",
      "training loss:   0.03560844350606203 \n",
      "at epoch 81: \n",
      "validation loss: 0.028828380898909364 \n",
      "training loss:   0.03363779185339808 \n",
      "at epoch 82: \n",
      "validation loss: 0.039654985422942234 \n",
      "training loss:   0.03748973588459194 \n",
      "at epoch 83: \n",
      "validation loss: 0.034696530847948916 \n",
      "training loss:   0.03309989593923092 \n",
      "at epoch 84: \n",
      "validation loss: 0.026298519600420556 \n",
      "training loss:   0.03132750159129501 \n",
      "at epoch 85: \n",
      "validation loss: 0.021956950128871076 \n",
      "training loss:   0.028857909450307487 \n",
      "at epoch 86: \n",
      "validation loss: 0.0258695846542399 \n",
      "training loss:   0.029112427746877074 \n",
      "at epoch 87: \n",
      "validation loss: 0.03221073612332978 \n",
      "training loss:   0.02647502220235765 \n",
      "at epoch 88: \n",
      "validation loss: 0.021571637931814852 \n",
      "training loss:   0.03176391829736531 \n",
      "at epoch 89: \n",
      "validation loss: 0.03147970914761437 \n",
      "training loss:   0.03025769698433578 \n",
      "at epoch 90: \n",
      "validation loss: 0.023317669851190232 \n",
      "training loss:   0.029964962499216197 \n",
      "at epoch 91: \n",
      "validation loss: 0.02011724660926043 \n",
      "training loss:   0.019745548623614013 \n",
      "at epoch 92: \n",
      "validation loss: 0.018951240118513717 \n",
      "training loss:   0.02411763172596693 \n",
      "at epoch 93: \n",
      "validation loss: 0.017551837405784334 \n",
      "training loss:   0.027786909877322616 \n",
      "at epoch 94: \n",
      "validation loss: 0.01873954564650008 \n",
      "training loss:   0.02229093828238547 \n",
      "at epoch 95: \n",
      "validation loss: 0.019912620409926834 \n",
      "training loss:   0.01814763880800456 \n",
      "at epoch 96: \n",
      "validation loss: 0.019480647836276826 \n",
      "training loss:   0.021362759158946573 \n",
      "at epoch 97: \n",
      "validation loss: 0.01896659392427574 \n",
      "training loss:   0.017242013374343515 \n",
      "at epoch 98: \n",
      "validation loss: 0.0229691977335259 \n",
      "training loss:   0.018952865432947875 \n",
      "at epoch 99: \n",
      "validation loss: 0.018252233683349606 \n",
      "training loss:   0.020051299398764967 \n",
      "Finished Training\n"
     ]
    }
   ],
   "execution_count": 54
  },
  {
   "cell_type": "code",
   "execution_count": null,
   "outputs": [],
   "source": [
    "# hyperparameters\n",
    "dropout = [0.2, 0.3, 0.5]"
   ],
   "metadata": {
    "collapsed": false,
    "ExecuteTime": {
     "start_time": "2024-06-14T11:51:32.682295Z",
     "end_time": "2024-06-14T13:27:43.707257Z"
    }
   }
  },
  {
   "cell_type": "code",
   "execution_count": null,
   "outputs": [],
   "source": [],
   "metadata": {
    "collapsed": false,
    "ExecuteTime": {
     "start_time": "2024-06-14T17:11:45.407826Z",
     "end_time": "2024-06-14T18:10:17.611399Z"
    }
   }
  }
 ],
 "metadata": {
  "kernelspec": {
   "display_name": "Python 3",
   "language": "python",
   "name": "python3"
  },
  "language_info": {
   "codemirror_mode": {
    "name": "ipython",
    "version": 2
   },
   "file_extension": ".py",
   "mimetype": "text/x-python",
   "name": "python",
   "nbconvert_exporter": "python",
   "pygments_lexer": "ipython2",
   "version": "2.7.6"
  }
 },
 "nbformat": 4,
 "nbformat_minor": 0
}
